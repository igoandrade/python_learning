{
 "cells": [
  {
   "cell_type": "markdown",
   "id": "449278e5-13b1-4734-b785-667f1feb3635",
   "metadata": {
    "tags": []
   },
   "source": [
    "# A Tutorial Introduction to Python\n",
    "\n",
    "## Exercises"
   ]
  },
  {
   "cell_type": "markdown",
   "id": "fd8bc8e6-2526-49c5-b2db-d808b8eb5528",
   "metadata": {},
   "source": [
    "1. Simple Python programming.\n",
    "\n",
    "(a) Write a function for converting degrees Fahrenheit to degrees Centigrade."
   ]
  },
  {
   "cell_type": "code",
   "execution_count": null,
   "id": "35a4c53f-20a6-4f00-b0b7-00a37146fb98",
   "metadata": {},
   "outputs": [],
   "source": [
    "def F2C(F):\n",
    "    return (F - 32) * (5/9)"
   ]
  },
  {
   "cell_type": "markdown",
   "id": "096ed361-2299-4a64-8277-d42c24de6ce5",
   "metadata": {},
   "source": [
    "(b) Write a Python program that sums the subset of prime numbers up to some natural number, $n$, say."
   ]
  },
  {
   "cell_type": "code",
   "execution_count": null,
   "id": "5fc635c0-40ee-4442-9800-5210367f8ffc",
   "metadata": {},
   "outputs": [],
   "source": [
    "def lista_primos(n):\n",
    "    \"\"\"\n",
    "    Uma função que lista todos os números primos até 'n'\n",
    "    \"\"\"\n",
    "    if n < 2:\n",
    "        return []\n",
    "    p = list(range(3, n+1, 2))\n",
    "    i = 1\n",
    "    while i < len(p):\n",
    "        p = p[:i+1] + [n for n in p[i+1:] if ((n % p[i]) != 0)]\n",
    "        i += 1\n",
    "    return [2] + p"
   ]
  },
  {
   "cell_type": "code",
   "execution_count": null,
   "id": "b5643dca-1c26-4751-891c-42bd2b058013",
   "metadata": {},
   "outputs": [],
   "source": [
    "def soma_primos(n):\n",
    "    \"\"\"\n",
    "    Uma função que soma o subconjunto de números primos até 'n'\n",
    "    \"\"\"\n",
    "    return sum(lista_primos(n))"
   ]
  },
  {
   "cell_type": "code",
   "execution_count": null,
   "id": "e73bb06d-9ee7-455d-a981-6eea74fccb4e",
   "metadata": {},
   "outputs": [],
   "source": [
    "for p in lista_primos(20):\n",
    "    print(f\"{p:3d} {soma_primos(p):4d}\")"
   ]
  },
  {
   "cell_type": "markdown",
   "id": "52c96fc5-300c-4e3b-91d6-74d192a0448c",
   "metadata": {},
   "source": [
    "(c)  Consider Pythagorean triples, positive integers $a$, $b$, $c$, such that\n",
    "$a^2 + b^2 = c^2$. Suppose that $c$ is defined by $c = b + n$, where $n$ is\n",
    "also an integer. Write a Python program that will find all such\n",
    "triples for a given value of $n$, where both $a$ and $b$ are less than or\n",
    "equal to a maximum value, $m$, say. For the case $n = 1$, find all\n",
    "triples with $1 \\leq a \\leq 100$ and $1 \\leq b \\leq 100$. For the case $n = 3$,\n",
    "find all triples with $1 \\leq a \\leq 200$ and $1 \\leq b \\leq 200$."
   ]
  },
  {
   "cell_type": "code",
   "execution_count": null,
   "id": "24d4b978-1a6f-4a28-b6d9-8d00a2961392",
   "metadata": {},
   "outputs": [],
   "source": [
    "a2 + b2 = c2\n",
    "a2 + b2 = (b + n)2\n",
    "a2 + b2 = b2 + 2bn + n2\n",
    "a2 = 2bn + n2"
   ]
  },
  {
   "cell_type": "code",
   "execution_count": null,
   "id": "8875adf8-4134-492c-8193-4759108ac84b",
   "metadata": {},
   "outputs": [],
   "source": [
    "def triplas_pitagoricas(n, m):\n",
    "    triplas = []\n",
    "    for a in range(1, m+1):\n",
    "        for b in range(1, m+1):\n",
    "            c = b + n\n",
    "            if (a**2 + b**2) == c**2:\n",
    "                triplas.append((a, b, c))\n",
    "    return triplas"
   ]
  },
  {
   "cell_type": "code",
   "execution_count": null,
   "id": "ee3f2aaf-ea10-496b-83ea-9e649d7d97f2",
   "metadata": {},
   "outputs": [],
   "source": [
    "triplas_pitagoricas(1, 100)"
   ]
  },
  {
   "cell_type": "code",
   "execution_count": null,
   "id": "4d24de2d-35fd-46a6-b379-79eba9db400f",
   "metadata": {},
   "outputs": [],
   "source": [
    "cab = f\"{'a':>3s} {'b':>4s} {'c':>4s}\"\n",
    "n = len(cab)\n",
    "print(n * \"=\")\n",
    "print(cab)\n",
    "print(n * \"-\")\n",
    "for tripla in triplas_pitagoricas(2, 200):\n",
    "    a, b, c = tripla\n",
    "    print(f\"{a:>3d} {b:>4d} {c:>4d}\")\n",
    "print(n * \"-\")"
   ]
  },
  {
   "cell_type": "markdown",
   "id": "44b75e26-af39-4eea-896b-0bcd5347aae7",
   "metadata": {},
   "source": [
    "(d) Edit the Koch square Python program to plot a Koch snowflake, where each segment is replaced with 4 segments, each one-third the length of the previous segment. Use an equilateral triangle as a base."
   ]
  },
  {
   "cell_type": "code",
   "execution_count": null,
   "id": "39dbe38b-26fd-41ca-8dd4-a6f98b8c195a",
   "metadata": {},
   "outputs": [],
   "source": [
    "from turtle import *\n",
    "import turtle\n",
    "def koch_snowflake(length, level):\n",
    "    speed(0)\n",
    "    for i in range(3):\n",
    "        plot_side(length, level)\n",
    "        rt(120)\n",
    "        \n",
    "def plot_side(length, level):\n",
    "    if level == 0:\n",
    "        fd(length)\n",
    "        return\n",
    "    plot_side(length/3, level-1)\n",
    "    lt(60)\n",
    "    plot_side(length/3, level-1)\n",
    "    rt(120)\n",
    "    plot_side(length/3, level-1)\n",
    "    lt(60)\n",
    "    plot_side(length/3, level-1)"
   ]
  },
  {
   "cell_type": "code",
   "execution_count": null,
   "id": "140c9911-964c-4644-b7cf-131cb25a4f66",
   "metadata": {},
   "outputs": [],
   "source": [
    "clear()\n",
    "penup()\n",
    "setpos(-150, 150)\n",
    "pendown()\n",
    "koch_snowflake(300,4)\n",
    "turtle.getscreen().getcanvas().postscript(file='kock_snowflake.ps')\n",
    "turtle.bye()"
   ]
  },
  {
   "cell_type": "markdown",
   "id": "16b9fcff-8f98-4281-b402-2ee3d2558e58",
   "metadata": {},
   "source": [
    "(e) Edit the sierpinski.py Python program to construct a Sierpinski square fractal, where the central square is removed at each stage and the length scales decrease by one-third."
   ]
  },
  {
   "cell_type": "code",
   "execution_count": null,
   "id": "9ec8fc33-414e-41ef-8617-32c62f3d623a",
   "metadata": {},
   "outputs": [],
   "source": [
    "from turtle import *\n",
    "def sierpinski(length, level, col = 'red'):\n",
    "    speed(0)\n",
    "    if level == 0:\n",
    "        return\n",
    "    begin_fill()\n",
    "    color(col)\n",
    "    for i in range(3):\n",
    "        sierpinski(length/2, level - 1)\n",
    "        fd(length)\n",
    "        lt(120)\n",
    "    end_fill()\n",
    "    \n",
    "def sierpinski_carpet(length, level, col = 'red'):\n",
    "    speed(0)\n",
    "    if level == 0:\n",
    "        return\n",
    "    begin_fill()\n",
    "    color(col)\n",
    "    for i in range(4):\n",
    "        sierpinski_square(length/3, level - 1)\n",
    "        fd(length)\n",
    "        lt(90)\n",
    "    end_fill()"
   ]
  },
  {
   "cell_type": "code",
   "execution_count": 6,
   "id": "2a1410d6-e209-4bfd-b01d-552d7065a08a",
   "metadata": {},
   "outputs": [],
   "source": [
    "import turtle\n",
    "def sierpinski_carpet(length, level):\n",
    "    if level == 0:\n",
    "        turtle.color('black')\n",
    "        turtle.begin_fill()\n",
    "        for _ in range(4):\n",
    "            turtle.fd(length)\n",
    "            turtle.lt(90)\n",
    "        turtle.end_fill()\n",
    "    else:\n",
    "        for _ in range(4):\n",
    "            sierpinski_carpet(length/3, level - 1)\n",
    "            turtle.fd(length/3)\n",
    "            \n",
    "            sierpinski_carpet(length/3, level - 1)\n",
    "            turtle.fd(length/3)\n",
    "            \n",
    "            turtle.fd(length/3)\n",
    "            turtle.lt(90)"
   ]
  },
  {
   "cell_type": "code",
   "execution_count": 11,
   "id": "ba2ef559-4e5e-4cbd-95de-ef44dda7f4ed",
   "metadata": {},
   "outputs": [],
   "source": [
    "turtle.clear()\n",
    "turtle.penup()\n",
    "turtle.setpos(-250, -200)\n",
    "turtle.pendown()\n",
    "sierpinski_carpet(200,3)\n",
    "turtle.getscreen().getcanvas().postscript(file='sierpinski4.ps')\n",
    "turtle.bye()"
   ]
  },
  {
   "cell_type": "markdown",
   "id": "98822e1a-646c-4e41-96c8-456e72fdda26",
   "metadata": {},
   "source": [
    "3. Given that\n",
    "\n",
    "\\begin{equation}\n",
    "A = \n",
    "\\begin{pmatrix} \n",
    "\\;1 & \\;2 & -1 \\\\  \n",
    "\\;0 & \\;1 & \\;0 \\\\   \n",
    "\\;3 & -1 & \\;2   \n",
    "\\end{pmatrix}\\quad\n",
    "B = \n",
    "\\begin{pmatrix} \n",
    "\\;1 & \\;2 & \\;3 \\\\  \n",
    "\\;1 & \\;1 & \\;2 \\\\   \n",
    "\\;0 & \\;1 & \\;2   \n",
    "\\end{pmatrix}  \n",
    "\\quad\n",
    "C = \n",
    "\\begin{pmatrix} \n",
    "\\;2 & \\;1 & \\;1 \\\\  \n",
    "\\;0 & \\;1 & -1 \\\\   \n",
    "\\;4 & \\;2 & \\;2   \n",
    "\\end{pmatrix}  \n",
    "\\end{equation}\n",
    "\n",
    "determine the following:"
   ]
  },
  {
   "cell_type": "markdown",
   "id": "da70ae6a-4da6-43fd-a042-67706a5e7064",
   "metadata": {},
   "source": [
    "(a) $A + 4BC$"
   ]
  },
  {
   "cell_type": "code",
   "execution_count": 78,
   "id": "18edade2-343c-446c-b516-914abe78292c",
   "metadata": {},
   "outputs": [
    {
     "data": {
      "text/latex": [
       "$\\displaystyle \\left[\\begin{matrix}1 & 2 & -1\\\\0 & 1 & 0\\\\3 & -1 & 2\\end{matrix}\\right]$"
      ],
      "text/plain": [
       "⎡1  2   -1⎤\n",
       "⎢         ⎥\n",
       "⎢0  1   0 ⎥\n",
       "⎢         ⎥\n",
       "⎣3  -1  2 ⎦"
      ]
     },
     "execution_count": 78,
     "metadata": {},
     "output_type": "execute_result"
    }
   ],
   "source": [
    "import sympy as sp\n",
    "A = sp.Matrix([\n",
    "    [1, 2, -1],\n",
    "    [0, 1, 0],\n",
    "    [3, -1, 2]\n",
    "])\n",
    "A"
   ]
  },
  {
   "cell_type": "code",
   "execution_count": 43,
   "id": "38475d13-0b0d-4996-9678-2c9fa35615f2",
   "metadata": {},
   "outputs": [
    {
     "data": {
      "text/latex": [
       "$\\displaystyle \\left[\\begin{matrix}1 & 2 & 3\\\\1 & 1 & 2\\\\0 & 1 & 2\\end{matrix}\\right]$"
      ],
      "text/plain": [
       "Matrix([\n",
       "[1, 2, 3],\n",
       "[1, 1, 2],\n",
       "[0, 1, 2]])"
      ]
     },
     "execution_count": 43,
     "metadata": {},
     "output_type": "execute_result"
    }
   ],
   "source": [
    "B = sp.Matrix([\n",
    "    [1,2,3],\n",
    "    [1,1,2],\n",
    "    [0,1,2]\n",
    "])\n",
    "B"
   ]
  },
  {
   "cell_type": "code",
   "execution_count": 45,
   "id": "a89f3b47-d17c-4e5f-b230-2057ae3fe579",
   "metadata": {},
   "outputs": [
    {
     "data": {
      "text/latex": [
       "$\\displaystyle \\left[\\begin{matrix}2 & 1 & 1\\\\0 & 1 & -1\\\\4 & 2 & 2\\end{matrix}\\right]$"
      ],
      "text/plain": [
       "Matrix([\n",
       "[2, 1,  1],\n",
       "[0, 1, -1],\n",
       "[4, 2,  2]])"
      ]
     },
     "execution_count": 45,
     "metadata": {},
     "output_type": "execute_result"
    }
   ],
   "source": [
    "C = sp.Matrix([\n",
    "    [2,1,1],\n",
    "    [0,1,-1],\n",
    "    [4,2,2]\n",
    "])\n",
    "C"
   ]
  },
  {
   "cell_type": "code",
   "execution_count": 53,
   "id": "dc9ad67c-0cc6-4d3e-a8fe-bb350c0bd941",
   "metadata": {},
   "outputs": [
    {
     "data": {
      "text/latex": [
       "$\\displaystyle \\left[\\begin{matrix}15 & 11 & 4\\\\10 & 7 & 4\\\\11 & 4 & 5\\end{matrix}\\right]$"
      ],
      "text/plain": [
       "Matrix([\n",
       "[15, 11, 4],\n",
       "[10,  7, 4],\n",
       "[11,  4, 5]])"
      ]
     },
     "execution_count": 53,
     "metadata": {},
     "output_type": "execute_result"
    }
   ],
   "source": [
    "A + B*C"
   ]
  },
  {
   "cell_type": "markdown",
   "id": "5dff7f6b-308f-4f63-b500-a23d338081c8",
   "metadata": {},
   "source": [
    "(b) the inverse of each matrix if it exists."
   ]
  },
  {
   "cell_type": "code",
   "execution_count": 65,
   "id": "72c9e350-ce3b-46e4-9128-39e8a264136d",
   "metadata": {},
   "outputs": [
    {
     "data": {
      "text/latex": [
       "$\\displaystyle \\left[\\begin{matrix}\\frac{2}{5} & - \\frac{3}{5} & \\frac{1}{5}\\\\0 & 1 & 0\\\\- \\frac{3}{5} & \\frac{7}{5} & \\frac{1}{5}\\end{matrix}\\right]$"
      ],
      "text/plain": [
       "Matrix([\n",
       "[ 2/5, -3/5, 1/5],\n",
       "[   0,    1,   0],\n",
       "[-3/5,  7/5, 1/5]])"
      ]
     },
     "metadata": {},
     "output_type": "display_data"
    }
   ],
   "source": [
    "if A.det() != 0:\n",
    "    display(A.inv())\n",
    "else:\n",
    "    print(\"Matriz não invertível\")"
   ]
  },
  {
   "cell_type": "code",
   "execution_count": 64,
   "id": "d3496f55-2ca5-4cf4-bea6-4545201943e4",
   "metadata": {},
   "outputs": [
    {
     "data": {
      "text/latex": [
       "$\\displaystyle \\left[\\begin{matrix}0 & 1 & -1\\\\2 & -2 & -1\\\\-1 & 1 & 1\\end{matrix}\\right]$"
      ],
      "text/plain": [
       "Matrix([\n",
       "[ 0,  1, -1],\n",
       "[ 2, -2, -1],\n",
       "[-1,  1,  1]])"
      ]
     },
     "metadata": {},
     "output_type": "display_data"
    }
   ],
   "source": [
    "if B.det() != 0:\n",
    "    display(B.inv())\n",
    "else:\n",
    "    print(\"Matriz não invertível\")"
   ]
  },
  {
   "cell_type": "code",
   "execution_count": 66,
   "id": "abbdfb90-e65b-460b-8fa1-482c3fcfb9c1",
   "metadata": {},
   "outputs": [
    {
     "name": "stdout",
     "output_type": "stream",
     "text": [
      "Matriz não invertível\n"
     ]
    }
   ],
   "source": [
    "if C.det() != 0:\n",
    "    display(C.inv())\n",
    "else:\n",
    "    print(\"Matriz não invertível\")"
   ]
  },
  {
   "cell_type": "markdown",
   "id": "3d6f7f4b-ec86-46d6-bec5-7d23bcd49769",
   "metadata": {},
   "source": [
    "(c) $A^3$"
   ]
  },
  {
   "cell_type": "code",
   "execution_count": 68,
   "id": "c2fc64af-c8f7-41ad-a0d4-94ca714d7222",
   "metadata": {},
   "outputs": [
    {
     "data": {
      "text/latex": [
       "$\\displaystyle \\left[\\begin{matrix}-11 & 4 & -4\\\\0 & 1 & 0\\\\12 & 20 & -7\\end{matrix}\\right]$"
      ],
      "text/plain": [
       "Matrix([\n",
       "[-11,  4, -4],\n",
       "[  0,  1,  0],\n",
       "[ 12, 20, -7]])"
      ]
     },
     "metadata": {},
     "output_type": "display_data"
    }
   ],
   "source": [
    "A3 = A**3\n",
    "display(A3)"
   ]
  },
  {
   "cell_type": "markdown",
   "id": "e9656c2f-5164-4ac4-8c5b-bfe1038e6b7f",
   "metadata": {},
   "source": [
    "(d) the determinant of $C$"
   ]
  },
  {
   "cell_type": "code",
   "execution_count": 69,
   "id": "b92b4249-beea-46aa-b7ae-2f3be809266f",
   "metadata": {},
   "outputs": [
    {
     "data": {
      "text/latex": [
       "$\\displaystyle 0$"
      ],
      "text/plain": [
       "0"
      ]
     },
     "execution_count": 69,
     "metadata": {},
     "output_type": "execute_result"
    }
   ],
   "source": [
    "C.det()"
   ]
  },
  {
   "cell_type": "markdown",
   "id": "11dc467c-f15c-4171-88b8-7d3acccdbc6d",
   "metadata": {},
   "source": [
    "(e) the eigenvalues and eigenvectos of $B$"
   ]
  },
  {
   "cell_type": "code",
   "execution_count": 73,
   "id": "8fc82b18-cda6-4b65-8821-93c4f207e72c",
   "metadata": {},
   "outputs": [
    {
     "data": {
      "text/plain": [
       "{4/3 + 13/(9*(65/54 + 13*sqrt(3)*I/18)**(1/3)) + (65/54 + 13*sqrt(3)*I/18)**(1/3): 1,\n",
       " 4/3 + 13/(9*(-1/2 + sqrt(3)*I/2)*(65/54 + 13*sqrt(3)*I/18)**(1/3)) + (-1/2 + sqrt(3)*I/2)*(65/54 + 13*sqrt(3)*I/18)**(1/3): 1,\n",
       " 4/3 + (-1/2 - sqrt(3)*I/2)*(65/54 + 13*sqrt(3)*I/18)**(1/3) + 13/(9*(-1/2 - sqrt(3)*I/2)*(65/54 + 13*sqrt(3)*I/18)**(1/3)): 1}"
      ]
     },
     "execution_count": 73,
     "metadata": {},
     "output_type": "execute_result"
    }
   ],
   "source": [
    "B.eigenvals()"
   ]
  },
  {
   "cell_type": "code",
   "execution_count": 75,
   "id": "d2efd8e0-7476-4561-9eae-f1253d6a2400",
   "metadata": {},
   "outputs": [
    {
     "data": {
      "text/plain": [
       "[(4/3 + (-1/2 - sqrt(3)*I/2)*(65/54 + 13*sqrt(3)*I/18)**(1/3) + 13/(9*(-1/2 - sqrt(3)*I/2)*(65/54 + 13*sqrt(3)*I/18)**(1/3)),\n",
       "  1,\n",
       "  [Matrix([\n",
       "   [-4 - 13/(3*(-1/2 - sqrt(3)*I/2)*(65/54 + 13*sqrt(3)*I/18)**(1/3)) + (4/3 + (-1/2 - sqrt(3)*I/2)*(65/54 + 13*sqrt(3)*I/18)**(1/3) + 13/(9*(-1/2 - sqrt(3)*I/2)*(65/54 + 13*sqrt(3)*I/18)**(1/3)))**2 - 3*(-1/2 - sqrt(3)*I/2)*(65/54 + 13*sqrt(3)*I/18)**(1/3)],\n",
       "   [                                                                                                                                  -2/3 + (-1/2 - sqrt(3)*I/2)*(65/54 + 13*sqrt(3)*I/18)**(1/3) + 13/(9*(-1/2 - sqrt(3)*I/2)*(65/54 + 13*sqrt(3)*I/18)**(1/3))],\n",
       "   [                                                                                                                                                                                                                                                            1]])]),\n",
       " (4/3 + 13/(9*(-1/2 + sqrt(3)*I/2)*(65/54 + 13*sqrt(3)*I/18)**(1/3)) + (-1/2 + sqrt(3)*I/2)*(65/54 + 13*sqrt(3)*I/18)**(1/3),\n",
       "  1,\n",
       "  [Matrix([\n",
       "   [-4 - 3*(-1/2 + sqrt(3)*I/2)*(65/54 + 13*sqrt(3)*I/18)**(1/3) + (4/3 + 13/(9*(-1/2 + sqrt(3)*I/2)*(65/54 + 13*sqrt(3)*I/18)**(1/3)) + (-1/2 + sqrt(3)*I/2)*(65/54 + 13*sqrt(3)*I/18)**(1/3))**2 - 13/(3*(-1/2 + sqrt(3)*I/2)*(65/54 + 13*sqrt(3)*I/18)**(1/3))],\n",
       "   [                                                                                                                                  -2/3 + 13/(9*(-1/2 + sqrt(3)*I/2)*(65/54 + 13*sqrt(3)*I/18)**(1/3)) + (-1/2 + sqrt(3)*I/2)*(65/54 + 13*sqrt(3)*I/18)**(1/3)],\n",
       "   [                                                                                                                                                                                                                                                            1]])]),\n",
       " (4/3 + 13/(9*(65/54 + 13*sqrt(3)*I/18)**(1/3)) + (65/54 + 13*sqrt(3)*I/18)**(1/3),\n",
       "  1,\n",
       "  [Matrix([\n",
       "   [-4 - 3*(65/54 + 13*sqrt(3)*I/18)**(1/3) + (4/3 + 13/(9*(65/54 + 13*sqrt(3)*I/18)**(1/3)) + (65/54 + 13*sqrt(3)*I/18)**(1/3))**2 - 13/(3*(65/54 + 13*sqrt(3)*I/18)**(1/3))],\n",
       "   [                                                                                        -2/3 + 13/(9*(65/54 + 13*sqrt(3)*I/18)**(1/3)) + (65/54 + 13*sqrt(3)*I/18)**(1/3)],\n",
       "   [                                                                                                                                                                        1]])])]"
      ]
     },
     "metadata": {},
     "output_type": "display_data"
    }
   ],
   "source": [
    "B.eigenvects()"
   ]
  },
  {
   "cell_type": "markdown",
   "id": "31958816-aca5-4d82-9498-56f43aaeb5bd",
   "metadata": {},
   "source": [
    "4. Given that $z_1 = 1 + i$, $z_2 = -2 + i$ and $z_3 = -1$, evaluate the following:"
   ]
  },
  {
   "cell_type": "markdown",
   "id": "cd21c48b-be7c-41a0-81d0-85e2aa3ad8fb",
   "metadata": {},
   "source": [
    "(a) $z_1 + z_2 - z_3$"
   ]
  },
  {
   "cell_type": "code",
   "execution_count": 79,
   "id": "b24b3f8f-3c34-4b0d-8f0d-9493b17a7cfa",
   "metadata": {},
   "outputs": [],
   "source": [
    "z1, z2, z3 = 1 + 1j, -2 + 1j, -1j"
   ]
  },
  {
   "cell_type": "code",
   "execution_count": 80,
   "id": "908be7c2-4440-4eec-a157-2cf7016d01b3",
   "metadata": {},
   "outputs": [
    {
     "data": {
      "text/plain": [
       "(-1+3j)"
      ]
     },
     "execution_count": 80,
     "metadata": {},
     "output_type": "execute_result"
    }
   ],
   "source": [
    "z1 + z2 - z3"
   ]
  },
  {
   "cell_type": "markdown",
   "id": "36a112ef-b283-49be-a5f7-2ef4a415fac9",
   "metadata": {},
   "source": [
    "(b) $\\dfrac{z_1 z_2}{z_3}$"
   ]
  },
  {
   "cell_type": "code",
   "execution_count": 81,
   "id": "fc74c7b4-95c5-4904-9a88-fdd7775cc32b",
   "metadata": {},
   "outputs": [
    {
     "data": {
      "text/plain": [
       "(1-3j)"
      ]
     },
     "execution_count": 81,
     "metadata": {},
     "output_type": "execute_result"
    }
   ],
   "source": [
    "z1 * z2 / z3"
   ]
  },
  {
   "cell_type": "markdown",
   "id": "cfc4d2ff-a737-4623-a73e-0c05f4f9fb28",
   "metadata": {},
   "source": [
    "(c) $e^{z_1}$"
   ]
  },
  {
   "cell_type": "code",
   "execution_count": 83,
   "id": "50d78e8c-32f2-4a45-809f-bdbe13fa4c39",
   "metadata": {},
   "outputs": [
    {
     "data": {
      "text/plain": [
       "(1.4686939399158851+2.2873552871788423j)"
      ]
     },
     "execution_count": 83,
     "metadata": {},
     "output_type": "execute_result"
    }
   ],
   "source": [
    "np.exp(z1)"
   ]
  },
  {
   "cell_type": "markdown",
   "id": "56da8fe3-f224-4a20-81de-11dfe791d9bc",
   "metadata": {},
   "source": [
    "(d) $\\ln{z_1}$"
   ]
  },
  {
   "cell_type": "code",
   "execution_count": 84,
   "id": "f68f0b86-4159-4937-88a0-559d1ef6282f",
   "metadata": {},
   "outputs": [
    {
     "data": {
      "text/plain": [
       "(0.34657359027997264+0.7853981633974483j)"
      ]
     },
     "execution_count": 84,
     "metadata": {},
     "output_type": "execute_result"
    }
   ],
   "source": [
    "np.log(z1)"
   ]
  },
  {
   "cell_type": "markdown",
   "id": "06a9044a-1961-4bce-97ad-f10a8e83941b",
   "metadata": {},
   "source": [
    "(e) $\\sin z_3$"
   ]
  },
  {
   "cell_type": "code",
   "execution_count": 85,
   "id": "ef06f1c7-30fb-4c20-b96a-a3a8d38c19c2",
   "metadata": {},
   "outputs": [
    {
     "data": {
      "text/plain": [
       "(-0-1.1752011936438014j)"
      ]
     },
     "execution_count": 85,
     "metadata": {},
     "output_type": "execute_result"
    }
   ],
   "source": [
    "np.sin(z3)"
   ]
  },
  {
   "cell_type": "markdown",
   "id": "9b846197-002a-4598-88db-8932c8f44dbc",
   "metadata": {},
   "source": [
    "5. Evaluate the following limits if they exist:"
   ]
  },
  {
   "cell_type": "markdown",
   "id": "17addb1c-bc5d-4bf1-8fcd-d29b405516fd",
   "metadata": {},
   "source": [
    "(a) $\\lim_{x \\rightarrow 0} \\dfrac{\\sin{x}}{x}$"
   ]
  },
  {
   "cell_type": "code",
   "execution_count": 94,
   "id": "76ea1e6a-90ed-4a1a-b56b-9dfc416e1c7f",
   "metadata": {},
   "outputs": [
    {
     "data": {
      "image/png": "[encoded data removed]",
      "text/latex": [
       "$\\displaystyle 1$"
      ],
      "text/plain": [
       "1"
      ]
     },
     "execution_count": 94,
     "metadata": {},
     "output_type": "execute_result"
    }
   ],
   "source": [
    "x = sp.symbols('x')\n",
    "sp.limit(sp.sin(x)/x, x, 0)"
   ]
  },
  {
   "cell_type": "markdown",
   "id": "d4c90621-0ec4-4773-ba2c-f0800387e839",
   "metadata": {},
   "source": [
    "(b) $\\lim_{x \\rightarrow \\infty} \\dfrac{x^3 + 3x^2 - 5}{2x^3 - 7x}$"
   ]
  },
  {
   "cell_type": "code",
   "execution_count": 95,
   "id": "2e602370-6b87-4e81-ac58-97b7c25bfead",
   "metadata": {},
   "outputs": [
    {
     "data": {
      "image/png": "[encoded data removed]",
      "text/latex": [
       "$\\displaystyle \\frac{1}{2}$"
      ],
      "text/plain": [
       "1/2"
      ]
     },
     "execution_count": 95,
     "metadata": {},
     "output_type": "execute_result"
    }
   ],
   "source": [
    "sp.limit((x**3 + 3*x**2 - 5)/(2*x**3 - 7*x), x, oo)"
   ]
  },
  {
   "cell_type": "markdown",
   "id": "4e57b60a-c6cb-46b6-b60a-73fcb319b38f",
   "metadata": {},
   "source": [
    "(c) $\\lim_{x \\rightarrow \\pi} \\dfrac{\\cos{x} + 1}{x - \\pi}$"
   ]
  },
  {
   "cell_type": "code",
   "execution_count": 100,
   "id": "22868b91-dca2-4b0a-bab3-76686867f58d",
   "metadata": {},
   "outputs": [
    {
     "data": {
      "image/png": "[encoded data removed]",
      "text/latex": [
       "$\\displaystyle 0$"
      ],
      "text/plain": [
       "0"
      ]
     },
     "execution_count": 100,
     "metadata": {},
     "output_type": "execute_result"
    }
   ],
   "source": [
    "sp.limit((sp.cos(x) + 1)/(x - sp.pi), x, sp.pi)"
   ]
  },
  {
   "cell_type": "markdown",
   "id": "78bbda45-7352-4e96-bb3f-cab0fec3893f",
   "metadata": {},
   "source": [
    "(d) $\\lim_{x \\rightarrow 0^+} \\dfrac{1}{x}$"
   ]
  },
  {
   "cell_type": "code",
   "execution_count": 98,
   "id": "e8fd6de9-bb9e-4387-9e44-d7e825653a0c",
   "metadata": {},
   "outputs": [
    {
     "data": {
      "image/png": "[encoded data removed]",
      "text/latex": [
       "$\\displaystyle \\infty$"
      ],
      "text/plain": [
       "∞"
      ]
     },
     "execution_count": 98,
     "metadata": {},
     "output_type": "execute_result"
    }
   ],
   "source": [
    "sp.limit(1/x, x, 0, '+')"
   ]
  },
  {
   "cell_type": "markdown",
   "id": "816f761a-3ed7-4dda-9276-32793aa0b8b6",
   "metadata": {},
   "source": [
    "(e) $\\lim_{x \\rightarrow 0} \\dfrac{2 \\sinh{x} - 2 \\sin{x}}{\\cosh{x} - 1}$"
   ]
  },
  {
   "cell_type": "code",
   "execution_count": 101,
   "id": "4a6bd011-1fd4-437e-ac1b-c029801ffd41",
   "metadata": {},
   "outputs": [
    {
     "data": {
      "image/png": "[encoded data removed]",
      "text/latex": [
       "$\\displaystyle 0$"
      ],
      "text/plain": [
       "0"
      ]
     },
     "execution_count": 101,
     "metadata": {},
     "output_type": "execute_result"
    }
   ],
   "source": [
    "sp.limit((2*sp.sinh(x) - 2*sp.sin(x))/(sp.cosh(x) - 1), x, 0)"
   ]
  },
  {
   "cell_type": "markdown",
   "id": "c25887cb-1d06-4aeb-8c8f-1b97bed52092",
   "metadata": {},
   "source": [
    "6. Find the derivatives of the following functions:"
   ]
  },
  {
   "cell_type": "markdown",
   "id": "c4b77fd2-e0f6-42fa-8614-de129334545c",
   "metadata": {},
   "source": [
    "(a) $y = 3x^3 + 2x^2 - 5$"
   ]
  },
  {
   "cell_type": "code",
   "execution_count": 102,
   "id": "3dfbf65f-edc0-4938-8f14-8bb4ef4dcfb9",
   "metadata": {},
   "outputs": [
    {
     "data": {
      "image/png": "[encoded data removed]",
      "text/latex": [
       "$\\displaystyle 9 x^{2} + 4 x$"
      ],
      "text/plain": [
       "   2      \n",
       "9⋅x  + 4⋅x"
      ]
     },
     "execution_count": 102,
     "metadata": {},
     "output_type": "execute_result"
    }
   ],
   "source": [
    "sp.diff(3*x**3 + 2*x**2 - 5, x)"
   ]
  },
  {
   "cell_type": "markdown",
   "id": "daf7035e-0a92-4af4-af76-e89b01ae6858",
   "metadata": {},
   "source": [
    "(b) $y = \\sqrt{1 + x^4}$"
   ]
  },
  {
   "cell_type": "code",
   "execution_count": 104,
   "id": "fbbbd0eb-beb1-4bc8-af43-3529e1ead171",
   "metadata": {},
   "outputs": [
    {
     "data": {
      "image/png": "[encoded data removed]",
      "text/latex": [
       "$\\displaystyle \\frac{2 x^{3}}{\\sqrt{x^{4} + 1}}$"
      ],
      "text/plain": [
       "       3   \n",
       "    2⋅x    \n",
       "───────────\n",
       "   ________\n",
       "  ╱  4     \n",
       "╲╱  x  + 1 "
      ]
     },
     "execution_count": 104,
     "metadata": {},
     "output_type": "execute_result"
    }
   ],
   "source": [
    "sp.diff(sp.sqrt(1 + x**4), x)"
   ]
  },
  {
   "cell_type": "markdown",
   "id": "3bf22501-4ce6-42ef-831c-803a6ad7eed9",
   "metadata": {},
   "source": [
    "(c) $y = e^x \\sin{x} \\cos{x}$"
   ]
  },
  {
   "cell_type": "code",
   "execution_count": 108,
   "id": "581db107-a7ee-45b7-a1f3-2b4442383a9b",
   "metadata": {},
   "outputs": [
    {
     "data": {
      "image/png": "[encoded data removed]",
      "text/latex": [
       "$\\displaystyle - e^{x} \\sin^{2}{\\left(x \\right)} + e^{x} \\sin{\\left(x \\right)} \\cos{\\left(x \\right)} + e^{x} \\cos^{2}{\\left(x \\right)}$"
      ],
      "text/plain": [
       "   x    2       x                  x    2   \n",
       "- ℯ ⋅sin (x) + ℯ ⋅sin(x)⋅cos(x) + ℯ ⋅cos (x)"
      ]
     },
     "execution_count": 108,
     "metadata": {},
     "output_type": "execute_result"
    }
   ],
   "source": [
    "eq = sp.diff(sp.exp(x) * sp.sin(x) * sp.cos(x), x)\n",
    "eq"
   ]
  },
  {
   "cell_type": "code",
   "execution_count": 109,
   "id": "60b2a70f-c5b4-409c-8048-7dd4bebf8c6d",
   "metadata": {},
   "outputs": [
    {
     "data": {
      "image/png": "[encoded data removed]",
      "text/latex": [
       "$\\displaystyle \\left(\\frac{\\sin{\\left(2 x \\right)}}{2} + \\cos{\\left(2 x \\right)}\\right) e^{x}$"
      ],
      "text/plain": [
       "⎛sin(2⋅x)           ⎞  x\n",
       "⎜──────── + cos(2⋅x)⎟⋅ℯ \n",
       "⎝   2               ⎠   "
      ]
     },
     "execution_count": 109,
     "metadata": {},
     "output_type": "execute_result"
    }
   ],
   "source": [
    "sp.trigsimp(eq)"
   ]
  },
  {
   "cell_type": "markdown",
   "id": "811d23a1-e176-45be-ae2d-da312260d877",
   "metadata": {},
   "source": [
    "(d) $\\tanh{x}$"
   ]
  },
  {
   "cell_type": "code",
   "execution_count": 110,
   "id": "e9479a55-f530-40c5-8bef-51fd1aa76896",
   "metadata": {},
   "outputs": [
    {
     "data": {
      "image/png": "[encoded data removed]",
      "text/latex": [
       "$\\displaystyle 1 - \\tanh^{2}{\\left(x \\right)}$"
      ],
      "text/plain": [
       "        2   \n",
       "1 - tanh (x)"
      ]
     },
     "execution_count": 110,
     "metadata": {},
     "output_type": "execute_result"
    }
   ],
   "source": [
    "sp.diff(sp.tanh(x), x)"
   ]
  },
  {
   "cell_type": "code",
   "execution_count": 111,
   "id": "c4745bcd-7f13-4135-9ab6-1816fc946904",
   "metadata": {},
   "outputs": [
    {
     "data": {
      "image/png": "[encoded data removed]",
      "text/latex": [
       "$\\displaystyle \\frac{1}{\\cosh^{2}{\\left(x \\right)}}$"
      ],
      "text/plain": [
       "   1    \n",
       "────────\n",
       "    2   \n",
       "cosh (x)"
      ]
     },
     "execution_count": 111,
     "metadata": {},
     "output_type": "execute_result"
    }
   ],
   "source": [
    "sp.trigsimp(sp.diff(sp.tanh(x), x))"
   ]
  },
  {
   "cell_type": "markdown",
   "id": "d9a365f5-eea2-4f75-bd0c-f0f07bc08b49",
   "metadata": {},
   "source": [
    "(e) $y = x^{\\ln{x}}$"
   ]
  },
  {
   "cell_type": "code",
   "execution_count": 113,
   "id": "5a12475c-eff6-4c05-a29e-b0620e5db30d",
   "metadata": {},
   "outputs": [
    {
     "data": {
      "image/png": "[encoded data removed]",
      "text/latex": [
       "$\\displaystyle \\frac{2 x^{\\log{\\left(x \\right)}} \\log{\\left(x \\right)}}{x}$"
      ],
      "text/plain": [
       "   log(x)       \n",
       "2⋅x      ⋅log(x)\n",
       "────────────────\n",
       "       x        "
      ]
     },
     "execution_count": 113,
     "metadata": {},
     "output_type": "execute_result"
    }
   ],
   "source": [
    "eq = sp.diff(x**(sp.log(x)), x)\n",
    "eq"
   ]
  },
  {
   "cell_type": "code",
   "execution_count": 116,
   "id": "52b243ee-b37f-4ee3-a223-c2afb40881a9",
   "metadata": {},
   "outputs": [
    {
     "data": {
      "image/png": "[encoded data removed]",
      "text/latex": [
       "$\\displaystyle 2 x^{\\log{\\left(x \\right)} - 1} \\log{\\left(x \\right)}$"
      ],
      "text/plain": [
       "   log(x) - 1       \n",
       "2⋅x          ⋅log(x)"
      ]
     },
     "execution_count": 116,
     "metadata": {},
     "output_type": "execute_result"
    }
   ],
   "source": [
    "sp.exptrigsimp(eq)"
   ]
  },
  {
   "cell_type": "markdown",
   "id": "274dbe6b-0537-449d-95c3-ff40b954ad0a",
   "metadata": {},
   "source": [
    "Evaluate the following definite integrals:"
   ]
  },
  {
   "cell_type": "markdown",
   "id": "4f1f59be-95ad-4d98-a045-7e3adf6e60ac",
   "metadata": {},
   "source": [
    "(f) $\\int_{x = 0}^1 3x^3 + 2x^2 - 5 dx$"
   ]
  },
  {
   "cell_type": "code",
   "execution_count": 120,
   "id": "bb35d3fe-1dfe-48de-bb04-c90a5475a04c",
   "metadata": {},
   "outputs": [
    {
     "data": {
      "image/png": "[encoded data removed]",
      "text/latex": [
       "$\\displaystyle - \\frac{43}{12}$"
      ],
      "text/plain": [
       "-43 \n",
       "────\n",
       " 12 "
      ]
     },
     "execution_count": 120,
     "metadata": {},
     "output_type": "execute_result"
    }
   ],
   "source": [
    "sp.integrate(3*x**3 + 2*x**2 - 5, (x, 0,1))"
   ]
  },
  {
   "cell_type": "markdown",
   "id": "2ae2cebe-7fa4-409f-ba3c-1f1846ec9ea5",
   "metadata": {},
   "source": [
    "(g) $\\int_{x = 1}^{\\infty} \\dfrac{1}{x^2} dx$"
   ]
  },
  {
   "cell_type": "code",
   "execution_count": 121,
   "id": "0a39280b-d791-4713-9e8e-1fc7478c3058",
   "metadata": {},
   "outputs": [
    {
     "data": {
      "image/png": "[encoded data removed]",
      "text/latex": [
       "$\\displaystyle 1$"
      ],
      "text/plain": [
       "1"
      ]
     },
     "execution_count": 121,
     "metadata": {},
     "output_type": "execute_result"
    }
   ],
   "source": [
    "sp.integrate(1/x**2, (x, 1, oo))"
   ]
  },
  {
   "cell_type": "markdown",
   "id": "3d8b0776-65b0-4f26-8520-51ba63fcbd99",
   "metadata": {},
   "source": [
    "(h) $\\int_{-\\infty}^{\\infty} e^{-x^2}$"
   ]
  },
  {
   "cell_type": "code",
   "execution_count": 124,
   "id": "36f6824d-daf1-465e-90db-ee2352bbc21f",
   "metadata": {},
   "outputs": [
    {
     "data": {
      "image/png": "[encoded data removed]",
      "text/latex": [
       "$\\displaystyle \\sqrt{\\pi}$"
      ],
      "text/plain": [
       "√π"
      ]
     },
     "execution_count": 124,
     "metadata": {},
     "output_type": "execute_result"
    }
   ],
   "source": [
    "sp.integrate(sp.exp(-x**2), (x, -oo, oo))"
   ]
  },
  {
   "cell_type": "markdown",
   "id": "e5b4378c-f342-4e06-8595-03375866d9bf",
   "metadata": {},
   "source": [
    "(i) $\\int_{0}^{1} \\dfrac{1}{\\sqrt{x}} dx$"
   ]
  },
  {
   "cell_type": "code",
   "execution_count": 127,
   "id": "4054a1df-f826-4d42-8e9f-ef295039d560",
   "metadata": {},
   "outputs": [
    {
     "data": {
      "image/png": "[encoded data removed]",
      "text/latex": [
       "$\\displaystyle 2$"
      ],
      "text/plain": [
       "2"
      ]
     },
     "execution_count": 127,
     "metadata": {},
     "output_type": "execute_result"
    }
   ],
   "source": [
    "sp.integrate(1/sp.sqrt(x), (x, 0, 1))"
   ]
  },
  {
   "cell_type": "markdown",
   "id": "bce15df0-dcd1-4186-b5fe-cfea2cabcca5",
   "metadata": {},
   "source": [
    "(j) $\\int_0^{\\frac{2}{\\pi}} \\dfrac{\\sin{1/t}}{t^2} dt$"
   ]
  },
  {
   "cell_type": "code",
   "execution_count": 129,
   "id": "9c574620-3631-4bc3-a2f9-190930c637fa",
   "metadata": {},
   "outputs": [
    {
     "data": {
      "image/png": "[encoded data removed]",
      "text/latex": [
       "$\\displaystyle \\left\\langle -1, 1\\right\\rangle$"
      ],
      "text/plain": [
       "<-1, 1>"
      ]
     },
     "execution_count": 129,
     "metadata": {},
     "output_type": "execute_result"
    }
   ],
   "source": [
    "t = sp.symbols('t')\n",
    "sp.integrate(sp.sin(1/t)/t**2, (t, 0, 2/sp.pi))"
   ]
  },
  {
   "cell_type": "markdown",
   "id": "307d16b3-1ce2-432d-8e25-b63bf82996d0",
   "metadata": {},
   "source": [
    "7. Graph the following:"
   ]
  },
  {
   "cell_type": "markdown",
   "id": "adeb8844-ec70-4ee9-b1d1-d5f50ce7b032",
   "metadata": {},
   "source": [
    "(a) $3x^3 + 2x^2 - 5$"
   ]
  },
  {
   "cell_type": "code",
   "execution_count": 141,
   "id": "337b1a20-0629-49f5-bc39-98a460f64127",
   "metadata": {},
   "outputs": [
    {
     "data": {
      "image/png": "[encoded data removed]",
      "text/plain": [
       "<Figure size 432x288 with 1 Axes>"
      ]
     },
     "metadata": {
      "needs_background": "light"
     },
     "output_type": "display_data"
    }
   ],
   "source": [
    "import matplotlib.pyplot as plt\n",
    "%matplotlib inline\n",
    "x = np.linspace(-5, 5, 100)\n",
    "y = 3*x**3 + 2*x**2 - 5\n",
    "plt.plot(x, y, 'b--', linewidth=2)\n",
    "plt.xlabel('$x$')\n",
    "plt.ylabel('$y$')\n",
    "plt.title('$y = 3x^3 + 2x^2 - 5$')\n",
    "plt.show()"
   ]
  },
  {
   "cell_type": "markdown",
   "id": "ad7be7e9-1118-47bc-bba8-aaee14baee39",
   "metadata": {},
   "source": [
    "(b) $y = e^{-x^2}$, for $-5 \\leq x \\leq 5$"
   ]
  },
  {
   "cell_type": "code",
   "execution_count": 143,
   "id": "8725c8b1-4e2a-46fa-b629-a34d371842fd",
   "metadata": {},
   "outputs": [
    {
     "data": {
      "text/plain": [
       "Text(0.5, 1.0, '$y = e^{-x^2}$')"
      ]
     },
     "execution_count": 143,
     "metadata": {},
     "output_type": "execute_result"
    },
    {
     "data": {
      "image/png": "[encoded data removed]",
      "text/plain": [
       "<Figure size 432x288 with 1 Axes>"
      ]
     },
     "metadata": {
      "needs_background": "light"
     },
     "output_type": "display_data"
    }
   ],
   "source": [
    "x = np.linspace(-5, 5, 100)\n",
    "y = np.exp(-x**2)\n",
    "plt.plot(x, y, 'b--', linewidth=1)\n",
    "plt.xlabel('$x$')\n",
    "plt.ylabel('$y$')\n",
    "plt.title('$y = e^{-x^2}$')"
   ]
  },
  {
   "cell_type": "markdown",
   "id": "d1fd5502-549c-483f-a0e1-4ef8d13f38cf",
   "metadata": {},
   "source": [
    "(c) $x^2 - 2xy - y^2 = 1$"
   ]
  },
  {
   "cell_type": "code",
   "execution_count": 147,
   "id": "8e6ca233-3e27-4783-8e59-c6931e7f3b8a",
   "metadata": {},
   "outputs": [
    {
     "data": {
      "image/png": "[encoded data removed]",
      "text/plain": [
       "<Figure size 432x288 with 1 Axes>"
      ]
     },
     "metadata": {
      "needs_background": "light"
     },
     "output_type": "display_data"
    },
    {
     "data": {
      "text/plain": [
       "<sympy.plotting.plot.Plot at 0x7fdd797e64f0>"
      ]
     },
     "execution_count": 147,
     "metadata": {},
     "output_type": "execute_result"
    }
   ],
   "source": [
    "sp.var('x y')\n",
    "sp.plot_implicit(x**2 - 2*x*y - y**2 - 1)"
   ]
  },
  {
   "cell_type": "markdown",
   "id": "7692f151-5071-4790-8775-2d744a091829",
   "metadata": {},
   "source": [
    "(d) $z = 4x^2 e^y - 2x^4 - e^{4y}$, for $-3 \\leq x \\leq 3$ and $-1 \\leq y \\leq 1$"
   ]
  },
  {
   "cell_type": "code",
   "execution_count": 193,
   "id": "ec3aeeff-de9d-4c4e-bc7f-275d47530210",
   "metadata": {},
   "outputs": [
    {
     "data": {
      "image/png": "[encoded data removed]",
      "text/plain": [
       "<Figure size 576x432 with 1 Axes>"
      ]
     },
     "metadata": {
      "needs_background": "light"
     },
     "output_type": "display_data"
    }
   ],
   "source": [
    "from mpl_toolkits.mplot3d import Axes3D\n",
    "def z_func(x,y):\n",
    "    return 4*x**2 * np.exp(y) - 2*x**4 - np.exp(4*y)\n",
    "\n",
    "x = np.linspace(-3,3, 80)\n",
    "y = np.linspace(-1,1,80)\n",
    "X, Y = np.meshgrid(x, y)\n",
    "Z = z_func(X, Y).T\n",
    "\n",
    "fig = plt.figure(figsize=(8,6))\n",
    "ax = fig.add_subplot(1,1,1, projection='3d')\n",
    "p = ax.plot_wireframe(X, Y, Z, rstride=5, cstride=5)\n",
    "ax.plot_surface(X, Y, Z, rstride=4, cstride=5, alpha=0.25)\n",
    "cset = ax.contour(X, Y, Z, zdir='z', offset=-200, cmap=plt.cm.coolwarm)\n",
    "cset = ax.contour(X, Y, Z, zdir='y', offset=2, cmap=plt.cm.coolwarm)\n",
    "cset = ax.contour(X, Y, Z, zdir='x', offset=-5, cmap=plt.cm.coolwarm)\n",
    "\n",
    "ax.set_xlim3d(-5,5)\n",
    "ax.set_ylim3d(-2,2)\n",
    "ax.set_zlim3d(-200, 0)\n",
    "ax.set_xlabel('$x$')\n",
    "ax.set_ylabel('$y$')\n",
    "ax.set_zlabel('$z$')\n",
    "plt.tick_params(labelsize=12)\n",
    "ax.set_title('$z = 4x^2 e^y - 2x^4 - e^{4y}$')\n",
    "plt.show()"
   ]
  },
  {
   "cell_type": "markdown",
   "id": "1795a63e-c29d-45b4-9719-38d6c5240211",
   "metadata": {},
   "source": [
    "(e) $x = t^2 - 3t$, $y = t^3 - 9t$, for $-4 \\leq t \\leq 4$"
   ]
  },
  {
   "cell_type": "code",
   "execution_count": 202,
   "id": "adc52f12-59ba-4a24-9388-cc1146a59114",
   "metadata": {},
   "outputs": [
    {
     "data": {
      "image/png": "[encoded data removed]",
      "text/plain": [
       "<Figure size 432x288 with 1 Axes>"
      ]
     },
     "metadata": {
      "needs_background": "light"
     },
     "output_type": "display_data"
    }
   ],
   "source": [
    "import numpy as np\n",
    "import matplotlib.pyplot as plt\n",
    "%matplotlib inline\n",
    "\n",
    "t = np.linspace(-4, 4, 100)\n",
    "x, y = t**2 - 3*t, t**3 - 9*t\n",
    "\n",
    "plt.plot(x, y, 'b', linewidth=1, label='$x = t^2 - 3t$, $y = t^3 - 9t$')\n",
    "plt.xlabel('$x$')\n",
    "plt.ylabel('$y$')\n",
    "plt.legend(loc='upper right')\n",
    "plt.title('2D parametric curve')\n",
    "plt.show()\n"
   ]
  },
  {
   "cell_type": "markdown",
   "id": "74c6a036-4e57-4bad-bfcd-e5acfca554da",
   "metadata": {},
   "source": [
    "8. Solve the following differential equations:"
   ]
  },
  {
   "cell_type": "markdown",
   "id": "2c9ce65d-ee7f-4562-83d2-155ea08bce6a",
   "metadata": {},
   "source": [
    "(a) $\\dfrac{dy}{dx} = \\dfrac{x}{2y}$, given that $y(1) = 1$"
   ]
  },
  {
   "cell_type": "code",
   "execution_count": 217,
   "id": "325d1932-7c0d-4aae-9638-371c3020a935",
   "metadata": {},
   "outputs": [
    {
     "data": {
      "image/png": "[encoded data removed]",
      "text/latex": [
       "$\\displaystyle y{\\left(x \\right)} = \\frac{\\sqrt{2 x^{2} + 2}}{2}$"
      ],
      "text/plain": [
       "          __________\n",
       "         ╱    2     \n",
       "       ╲╱  2⋅x  + 2 \n",
       "y(x) = ─────────────\n",
       "             2      "
      ]
     },
     "execution_count": 217,
     "metadata": {},
     "output_type": "execute_result"
    }
   ],
   "source": [
    "import sympy as sp\n",
    "x = sp.symbols('x')\n",
    "y = sp.symbols('y', cls=sp.Function)\n",
    "ode = sp.Eq(y(x).diff(x), x/(2*y(x)))\n",
    "sol = sp.dsolve(ode, y(x), ics={y(1):1})\n",
    "sol"
   ]
  },
  {
   "cell_type": "markdown",
   "id": "fb687356-835e-470c-bf06-4c19fd62e93f",
   "metadata": {},
   "source": [
    "(b) $\\dfrac{dy}{dx} = -\\dfrac{y}{x}$, given that $y(2) = 3$"
   ]
  },
  {
   "cell_type": "code",
   "execution_count": 218,
   "id": "1c30c5cb-107b-4a82-b8d9-932a60cedddd",
   "metadata": {},
   "outputs": [
    {
     "data": {
      "image/png": "[encoded data removed]",
      "text/latex": [
       "$\\displaystyle y{\\left(x \\right)} = \\frac{6}{x}$"
      ],
      "text/plain": [
       "       6\n",
       "y(x) = ─\n",
       "       x"
      ]
     },
     "execution_count": 218,
     "metadata": {},
     "output_type": "execute_result"
    }
   ],
   "source": [
    "import sympy as sp\n",
    "x = sp.symbols('x')\n",
    "y = sp.symbols('y', cls=sp.Function)\n",
    "ode = sp.Eq(y(x).diff(x), -y(x)/x)\n",
    "sol = sp.dsolve(ode, y(x), ics={y(2): 3})\n",
    "sol"
   ]
  },
  {
   "cell_type": "markdown",
   "id": "7d1ba161-ad86-4f60-b896-33b17c02ee78",
   "metadata": {},
   "source": [
    "(c) $\\dfrac{dy}{dx} = \\dfrac{x^2}{y^3}$, given that $y(0) = 1$"
   ]
  },
  {
   "cell_type": "code",
   "execution_count": 219,
   "id": "c17c4a53-b6b8-4d14-a82e-103daf0c9bce",
   "metadata": {},
   "outputs": [
    {
     "data": {
      "image/png": "[encoded data removed]",
      "text/latex": [
       "$\\displaystyle y{\\left(x \\right)} = \\sqrt[4]{\\frac{4 x^{3}}{3} + 1}$"
      ],
      "text/plain": [
       "            __________\n",
       "           ╱    3     \n",
       "          ╱  4⋅x      \n",
       "y(x) = 4 ╱   ──── + 1 \n",
       "       ╲╱     3       "
      ]
     },
     "execution_count": 219,
     "metadata": {},
     "output_type": "execute_result"
    }
   ],
   "source": [
    "import sympy as sp\n",
    "x = sp.symbols('x')\n",
    "y = sp.symbols('y', cls=sp.Function)\n",
    "ode = sp.Eq(y(x).diff(x), x**2/y(x)**3)\n",
    "sol = sp.dsolve(ode, y(x), ics={y(0): 1})\n",
    "sol"
   ]
  },
  {
   "cell_type": "markdown",
   "id": "176cad07-f032-4e80-a4f0-47dcc7d411a9",
   "metadata": {},
   "source": [
    "(d) $\\dfrac{d^2x}{dt} + 5 \\dfrac{dx}{dt} + 6x = 0$, given that $x(0) = 1$ and $\\dot{x}(0) = 0$"
   ]
  },
  {
   "cell_type": "code",
   "execution_count": 222,
   "id": "f8bf4369-260e-4567-b922-f634fa5641f5",
   "metadata": {},
   "outputs": [
    {
     "data": {
      "image/png": "[encoded data removed]",
      "text/latex": [
       "$\\displaystyle x{\\left(t \\right)} = \\left(3 - 2 e^{- t}\\right) e^{- 2 t}$"
      ],
      "text/plain": [
       "       ⎛       -t⎞  -2⋅t\n",
       "x(t) = ⎝3 - 2⋅ℯ  ⎠⋅ℯ    "
      ]
     },
     "execution_count": 222,
     "metadata": {},
     "output_type": "execute_result"
    }
   ],
   "source": [
    "t = sp.symbols('t')\n",
    "x = sp.symbols('x', cls=sp.Function)\n",
    "ode = sp.Eq(x(t).diff(t,t) + 5*x(t).diff(t) + 6*x(t),0)\n",
    "sol = sp.dsolve(ode, x(t), ics={x(0):1, x(t).diff(t).subs(t, 0):0})\n",
    "sol"
   ]
  },
  {
   "cell_type": "markdown",
   "id": "8513ce6a-1f4c-494b-b396-17f950347a44",
   "metadata": {},
   "source": [
    "(e) $\\dfrac{d^2x}{dt} + 5 \\dfrac{dx}{dt} + 6x = \\sin{t}$, given that $x(0) = 1$ and $\\dot{x}(0) = 0$"
   ]
  },
  {
   "cell_type": "code",
   "execution_count": 224,
   "id": "2c46b5e5-ad9a-4208-ad70-a2cd7a4cbeab",
   "metadata": {},
   "outputs": [
    {
     "data": {
      "image/png": "[encoded data removed]",
      "text/latex": [
       "$\\displaystyle x{\\left(t \\right)} = \\frac{\\sin{\\left(t \\right)}}{10} - \\frac{\\cos{\\left(t \\right)}}{10} + \\frac{21 e^{- 2 t}}{5} - \\frac{31 e^{- 3 t}}{10}$"
      ],
      "text/plain": [
       "                             -2⋅t       -3⋅t\n",
       "       sin(t)   cos(t)   21⋅ℯ       31⋅ℯ    \n",
       "x(t) = ────── - ────── + ──────── - ────────\n",
       "         10       10        5          10   "
      ]
     },
     "execution_count": 224,
     "metadata": {},
     "output_type": "execute_result"
    }
   ],
   "source": [
    "t = sp.symbols('t')\n",
    "x = sp.symbols('x', cls=sp.Function)\n",
    "ode = sp.Eq(x(t).diff(t,t) + 5*x(t).diff(t) + 6*x(t), sp.sin(t))\n",
    "sol = sp.dsolve(ode, x(t), ics={x(0):1, x(t).diff(t).subs(t,0):1})\n",
    "sol"
   ]
  },
  {
   "cell_type": "markdown",
   "id": "32e81c8e-0d45-403f-b3d7-4c94dc4fc19c",
   "metadata": {},
   "source": [
    "9. Carry out one hundred iterations on the recurrence relation: $$x_{n+1} = 4x_n (1 - x_n)$$ given that (a) $x_0 = 0.2$ and $x_0 = 0.2001$. List the final the iterates in each case."
   ]
  },
  {
   "cell_type": "code",
   "execution_count": 257,
   "id": "b9430b0a-2cbb-4923-9509-8a8ac2c35c97",
   "metadata": {},
   "outputs": [],
   "source": [
    "logistic = lambda x: 4*x*(1-x)\n",
    "\n",
    "x0 = 0.2\n",
    "dx = 0.0001\n",
    "X1 = [x0]\n",
    "X2 = [x0 + dx]\n",
    "for i in range(100):\n",
    "    X1.append(logistic(X1[-1]))\n",
    "    X2.append(logistic(X2[-1]))"
   ]
  },
  {
   "cell_type": "code",
   "execution_count": 259,
   "id": "850eb5a3-d5b3-4147-ab47-12eebb4f8686",
   "metadata": {},
   "outputs": [
    {
     "data": {
      "image/png": "[encoded data removed]",
      "text/plain": [
       "<Figure size 1152x288 with 1 Axes>"
      ]
     },
     "metadata": {
      "needs_background": "light"
     },
     "output_type": "display_data"
    }
   ],
   "source": [
    "fig = plt.figure(figsize=(16, 4))\n",
    "plt.plot(X1, 'b--', linewidth=1, label=f\"$x_0 = {x0}$\")\n",
    "plt.plot(X1, 'bo')\n",
    "plt.plot(X2, 'r--', linewidth=1, label=f\"$x_0 = {x0+dx}$\")\n",
    "plt.plot(X2, 'ro')\n",
    "plt.ylim(0,1.4)\n",
    "plt.legend(loc='upper right')\n",
    "plt.xlabel('$n$')\n",
    "plt.ylabel('$x_{n+1} = 4x_n (1 - x_n)$')\n",
    "plt.title('Logistic Function')\n",
    "plt.grid(True)\n",
    "plt.show()"
   ]
  },
  {
   "cell_type": "markdown",
   "id": "5bb56c3e-1d3c-47bb-80aa-a32098364be6",
   "metadata": {},
   "source": [
    "10. Use a while loop to program Euclid's algorithm for finding the greathest common divisor of two integer. Use your program to find the greatest common divisor of 12348 and 14238."
   ]
  },
  {
   "cell_type": "code",
   "execution_count": 269,
   "id": "d1d7d401-e41b-4eb5-be71-6def670e5eb6",
   "metadata": {},
   "outputs": [],
   "source": [
    "def mdc(a,b):\n",
    "    a,b = abs(max(a,b)), abs(min(a,b))\n",
    "    while b != 0:\n",
    "        a, b = b, a%b\n",
    "    return a"
   ]
  },
  {
   "cell_type": "code",
   "execution_count": 271,
   "id": "4e3296cc-830a-4bdc-a09e-ddc272ccc385",
   "metadata": {},
   "outputs": [
    {
     "data": {
      "image/png": "[encoded data removed]",
      "text/latex": [
       "$\\displaystyle 126$"
      ],
      "text/plain": [
       "126"
      ]
     },
     "execution_count": 271,
     "metadata": {},
     "output_type": "execute_result"
    }
   ],
   "source": [
    "mdc(12348, -14238)"
   ]
  },
  {
   "cell_type": "code",
   "execution_count": 274,
   "id": "775a53fc-f736-45f6-85ab-647968e6df8a",
   "metadata": {},
   "outputs": [],
   "source": [
    "def mdc(a, b, *args):\n",
    "    a,b = abs(max(a,b)), abs(min(a,b))\n",
    "    while b != 0:\n",
    "        a, b = b, a%b\n",
    "    for b in args:\n",
    "        a = mdc(a, b)\n",
    "    return a"
   ]
  },
  {
   "cell_type": "code",
   "execution_count": 283,
   "id": "a80d62d7-d66a-4ee8-b7f6-42b9c33d303e",
   "metadata": {},
   "outputs": [
    {
     "data": {
      "image/png": "[encoded data removed]",
      "text/latex": [
       "$\\displaystyle 2$"
      ],
      "text/plain": [
       "2"
      ]
     },
     "execution_count": 283,
     "metadata": {},
     "output_type": "execute_result"
    }
   ],
   "source": [
    "mdc(-12348,14238,3560)"
   ]
  },
  {
   "cell_type": "code",
   "execution_count": null,
   "id": "1d47e1ae-8820-488b-9611-aae579a7ea25",
   "metadata": {},
   "outputs": [],
   "source": []
  }
 ],
 "metadata": {
  "kernelspec": {
   "display_name": "ds39",
   "language": "python",
   "name": "ds39"
  },
  "language_info": {
   "codemirror_mode": {
    "name": "ipython",
    "version": 3
   },
   "file_extension": ".py",
   "mimetype": "text/x-python",
   "name": "python",
   "nbconvert_exporter": "python",
   "pygments_lexer": "ipython3",
   "version": "3.9.7"
  }
 },
 "nbformat": 4,
 "nbformat_minor": 5
}
