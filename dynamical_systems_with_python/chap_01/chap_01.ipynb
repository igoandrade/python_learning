{
 "cells": [
  {
   "cell_type": "markdown",
   "id": "449278e5-13b1-4734-b785-667f1feb3635",
   "metadata": {
    "tags": []
   },
   "source": [
    "# A Tutorial Introduction to Python\n",
    "\n",
    "## Exercises"
   ]
  },
  {
   "cell_type": "markdown",
   "id": "fd8bc8e6-2526-49c5-b2db-d808b8eb5528",
   "metadata": {},
   "source": [
    "1. Simple Python programming.\n",
    "\n",
    "(a) Write a function for converting degrees Fahrenheit to degrees Centigrade."
   ]
  },
  {
   "cell_type": "code",
   "execution_count": null,
   "id": "35a4c53f-20a6-4f00-b0b7-00a37146fb98",
   "metadata": {},
   "outputs": [],
   "source": [
    "def F2C(F):\n",
    "    return (F - 32) * (5/9)"
   ]
  },
  {
   "cell_type": "markdown",
   "id": "096ed361-2299-4a64-8277-d42c24de6ce5",
   "metadata": {},
   "source": [
    "(b) Write a Python program that sums the subset of prime numbers up to some natural number, $n$, say."
   ]
  },
  {
   "cell_type": "code",
   "execution_count": 48,
   "id": "5fc635c0-40ee-4442-9800-5210367f8ffc",
   "metadata": {},
   "outputs": [],
   "source": [
    "def lista_primos(n):\n",
    "    \"\"\"\n",
    "    Uma função que lista todos os números primos até 'n'\n",
    "    \"\"\"\n",
    "    if n < 2:\n",
    "        return []\n",
    "    p = list(range(3, n+1, 2))\n",
    "    i = 1\n",
    "    while i < len(p):\n",
    "        p = p[:i+1] + [n for n in p[i+1:] if ((n % p[i]) != 0)]\n",
    "        i += 1\n",
    "    return [2] + p"
   ]
  },
  {
   "cell_type": "code",
   "execution_count": 49,
   "id": "b5643dca-1c26-4751-891c-42bd2b058013",
   "metadata": {},
   "outputs": [],
   "source": [
    "def soma_primos(n):\n",
    "    \"\"\"\n",
    "    Uma função que soma o subconjunto de números primos até 'n'\n",
    "    \"\"\"\n",
    "    return sum(lista_primos(n))"
   ]
  },
  {
   "cell_type": "code",
   "execution_count": 53,
   "id": "e73bb06d-9ee7-455d-a981-6eea74fccb4e",
   "metadata": {},
   "outputs": [
    {
     "name": "stdout",
     "output_type": "stream",
     "text": [
      "  2    2\n",
      "  3    5\n",
      "  5   10\n",
      "  7   17\n",
      "  9   26\n",
      " 11   37\n",
      " 13   50\n",
      " 17   67\n",
      " 19   86\n"
     ]
    }
   ],
   "source": [
    "for p in lista_primos(20):\n",
    "    print(f\"{p:3d} {soma_primos(p):4d}\")"
   ]
  },
  {
   "cell_type": "markdown",
   "id": "52c96fc5-300c-4e3b-91d6-74d192a0448c",
   "metadata": {},
   "source": [
    "(c)  Consider Pythagorean triples, positive integers $a$, $b$, $c$, such that\n",
    "$a^2 + b^2 = c^2$. Suppose that $c$ is defined by $c = b + n$, where $n$ is\n",
    "also an integer. Write a Python program that will find all such\n",
    "triples for a given value of $n$, where both $a$ and $b$ are less than or\n",
    "equal to a maximum value, $m$, say. For the case $n = 1$, find all\n",
    "triples with $1 \\leq a \\leq 100$ and $1 \\leq b \\leq 100$. For the case $n = 3$,\n",
    "find all triples with $1 \\leq a \\leq 200$ and $1 \\leq b \\leq 200$."
   ]
  },
  {
   "cell_type": "code",
   "execution_count": null,
   "id": "24d4b978-1a6f-4a28-b6d9-8d00a2961392",
   "metadata": {},
   "outputs": [],
   "source": [
    "a2 + b2 = c2\n",
    "a2 + b2 = (b + n)2\n",
    "a2 + b2 = b2 + 2bn + n2\n",
    "a2 = 2bn + n2"
   ]
  },
  {
   "cell_type": "code",
   "execution_count": 54,
   "id": "8875adf8-4134-492c-8193-4759108ac84b",
   "metadata": {},
   "outputs": [],
   "source": [
    "def triplas_pitagoricas(n, m):\n",
    "    triplas = []\n",
    "    for a in range(1, m+1):\n",
    "        for b in range(1, m+1):\n",
    "            c = b + n\n",
    "            if (a**2 + b**2) == c**2:\n",
    "                triplas.append((a, b, c))\n",
    "    return triplas"
   ]
  },
  {
   "cell_type": "code",
   "execution_count": 55,
   "id": "ee3f2aaf-ea10-496b-83ea-9e649d7d97f2",
   "metadata": {},
   "outputs": [
    {
     "data": {
      "text/plain": [
       "[(3, 4, 5), (5, 12, 13), (7, 24, 25), (9, 40, 41), (11, 60, 61), (13, 84, 85)]"
      ]
     },
     "execution_count": 55,
     "metadata": {},
     "output_type": "execute_result"
    }
   ],
   "source": [
    "triplas_pitagoricas(1, 100)"
   ]
  },
  {
   "cell_type": "code",
   "execution_count": 61,
   "id": "4d24de2d-35fd-46a6-b379-79eba9db400f",
   "metadata": {},
   "outputs": [
    {
     "name": "stdout",
     "output_type": "stream",
     "text": [
      "=============\n",
      "  a    b    c\n",
      "-------------\n",
      "  4    3    5\n",
      "  6    8   10\n",
      "  8   15   17\n",
      " 10   24   26\n",
      " 12   35   37\n",
      " 14   48   50\n",
      " 16   63   65\n",
      " 18   80   82\n",
      " 20   99  101\n",
      " 22  120  122\n",
      " 24  143  145\n",
      " 26  168  170\n",
      " 28  195  197\n",
      "-------------\n"
     ]
    }
   ],
   "source": [
    "cab = f\"{'a':>3s} {'b':>4s} {'c':>4s}\"\n",
    "n = len(cab)\n",
    "print(n * \"=\")\n",
    "print(cab)\n",
    "print(n * \"-\")\n",
    "for tripla in triplas_pitagoricas(2, 200):\n",
    "    a, b, c = tripla\n",
    "    print(f\"{a:>3d} {b:>4d} {c:>4d}\")\n",
    "print(n * \"-\")"
   ]
  },
  {
   "cell_type": "markdown",
   "id": "44b75e26-af39-4eea-896b-0bcd5347aae7",
   "metadata": {},
   "source": [
    "(d) Edit the Koch square Python program to plot a Koch snowflake, where each segment is replaced with 4 segments, each one-third the length of the previous segment. Use an equilateral triangle as a base."
   ]
  },
  {
   "cell_type": "code",
   "execution_count": 62,
   "id": "39dbe38b-26fd-41ca-8dd4-a6f98b8c195a",
   "metadata": {},
   "outputs": [],
   "source": [
    "from turtle import *\n",
    "def koch_square(length, level):\n",
    "    speed(0)\n",
    "    for i in range(4):\n",
    "        plot_side(length, level)\n",
    "        rt(90)\n",
    "        \n",
    "def plot_side(length, level):\n",
    "    if level == 0:\n",
    "        fd(length)\n",
    "        return\n",
    "    plot_side(length/3, level-1)\n",
    "    lt(90)\n",
    "    plot_side(length/3, level-1)\n",
    "    rt(90)\n",
    "    plot_side(length/3, level-1)\n",
    "    rt(90)\n",
    "    plot_side(length/3, level-1)\n",
    "    lt(90)\n",
    "    plot_side(length/3, level-1)"
   ]
  },
  {
   "cell_type": "code",
   "execution_count": 63,
   "id": "140c9911-964c-4644-b7cf-131cb25a4f66",
   "metadata": {},
   "outputs": [],
   "source": [
    "koch_square(200,4)"
   ]
  },
  {
   "cell_type": "markdown",
   "id": "16b9fcff-8f98-4281-b402-2ee3d2558e58",
   "metadata": {},
   "source": [
    "(e) Edit the sierpinski.py Python program to construct a Sierpinski square fractal, where the central square is removed at each stage and the length scales decrease by one-third."
   ]
  }
 ],
 "metadata": {
  "kernelspec": {
   "display_name": "ds39",
   "language": "python",
   "name": "ds39"
  },
  "language_info": {
   "codemirror_mode": {
    "name": "ipython",
    "version": 3
   },
   "file_extension": ".py",
   "mimetype": "text/x-python",
   "name": "python",
   "nbconvert_exporter": "python",
   "pygments_lexer": "ipython3",
   "version": "3.9.7"
  }
 },
 "nbformat": 4,
 "nbformat_minor": 5
}
