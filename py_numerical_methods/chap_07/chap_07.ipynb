{
 "cells": [
  {
   "cell_type": "markdown",
   "id": "381827d8-3af3-49d4-8f00-f8026fa5fdf0",
   "metadata": {},
   "source": [
    "# Object-Oriented Programming"
   ]
  },
  {
   "cell_type": "code",
   "execution_count": 3,
   "id": "0d86d88b-cc7c-4574-8225-ade8eac9f368",
   "metadata": {},
   "outputs": [],
   "source": [
    "class People():\n",
    "    def __init__(self, name, age):\n",
    "        self.name = name\n",
    "        self.age = age\n",
    "        \n",
    "    def greet(self):\n",
    "        print(\"Grettings, \" + self.name + \"!!\")"
   ]
  },
  {
   "cell_type": "code",
   "execution_count": 4,
   "id": "1019d5f5-1785-45ca-b249-081a968a508a",
   "metadata": {},
   "outputs": [
    {
     "name": "stdout",
     "output_type": "stream",
     "text": [
      "Grettings, Iron Man!!\n"
     ]
    }
   ],
   "source": [
    "person1 = People(name = \"Iron Man\", age = 35)\n",
    "person1.greet()"
   ]
  },
  {
   "cell_type": "code",
   "execution_count": 5,
   "id": "8507e140-d235-4119-a7e4-fe1a68daa3e7",
   "metadata": {},
   "outputs": [],
   "source": [
    "class Student():\n",
    "    def __init__(self, sid, name, gender):\n",
    "        self.sid = sid\n",
    "        self.name = name\n",
    "        self.gender = gender\n",
    "        self.type = \"learning\"\n",
    "        \n",
    "    def say_name(self):\n",
    "        print(f\"My name is {self.name}.\")\n",
    "    \n",
    "    def report(self, score):\n",
    "        self.say_name()\n",
    "        print(f\"My id is {self.sid}.\")\n",
    "        print(f\"My score is {score}.\")"
   ]
  },
  {
   "cell_type": "code",
   "execution_count": 6,
   "id": "b0072829-fec3-40ea-b454-11d5f93ec0bb",
   "metadata": {},
   "outputs": [],
   "source": [
    "stu = Student(12345, 'Naruto', 'Male')"
   ]
  },
  {
   "cell_type": "code",
   "execution_count": 7,
   "id": "7ca6bafa-b855-409a-a972-298ac50b6b06",
   "metadata": {},
   "outputs": [
    {
     "name": "stdout",
     "output_type": "stream",
     "text": [
      "My name is Naruto.\n"
     ]
    }
   ],
   "source": [
    "stu.say_name()"
   ]
  },
  {
   "cell_type": "code",
   "execution_count": 8,
   "id": "1fb691a9-b6c6-4468-9467-7a012b61ece3",
   "metadata": {},
   "outputs": [
    {
     "name": "stdout",
     "output_type": "stream",
     "text": [
      "My name is Naruto.\n",
      "My id is 12345.\n",
      "My score is 10.\n"
     ]
    }
   ],
   "source": [
    "stu.report(10)"
   ]
  },
  {
   "cell_type": "markdown",
   "id": "8e741b32-1a0f-4306-ac05-ca44e8cc1802",
   "metadata": {},
   "source": [
    "## Problems"
   ]
  },
  {
   "cell_type": "markdown",
   "id": "22b20c6d-7f8c-4c6d-ad1f-1da496716f63",
   "metadata": {},
   "source": [
    "5. The following is a definition of the class Point that takes in the coordinates x, y. Add a method plot_point that plots the position of a point."
   ]
  },
  {
   "cell_type": "code",
   "execution_count": 16,
   "id": "7fb31642-d84c-474e-a39f-7f65c9922b87",
   "metadata": {},
   "outputs": [],
   "source": [
    "import matplotlib.pyplot as plt\n",
    "\n",
    "class Point():\n",
    "    def __init__(self, x, y):\n",
    "        self.x = x\n",
    "        self.y = y\n",
    "    def plot_point(self):\n",
    "        plt.plot(self.x, self.y, 'bo--')\n",
    "        plt.show()\n"
   ]
  },
  {
   "cell_type": "code",
   "execution_count": 17,
   "id": "3e4cb715-e3be-45f3-a8f6-16dde90b49a3",
   "metadata": {},
   "outputs": [
    {
     "data": {
      "image/png": "[encoded data removed]",
      "text/plain": [
       "<Figure size 432x288 with 1 Axes>"
      ]
     },
     "metadata": {
      "needs_background": "light"
     },
     "output_type": "display_data"
    }
   ],
   "source": [
    "P = Point(2,3)\n",
    "P.plot_point()"
   ]
  },
  {
   "cell_type": "markdown",
   "id": "5b64ef9a-e263-406c-8573-9a46ad8ddd78",
   "metadata": {},
   "source": [
    "6. Use the class from Problem 5 and add a method calculate_dist which takes in x and y from another point, and returns the distance calculated between the two points."
   ]
  },
  {
   "cell_type": "code",
   "execution_count": 18,
   "id": "d8c1f120-5fd7-4e1b-b5b3-f7e32906e20a",
   "metadata": {},
   "outputs": [],
   "source": [
    "import matplotlib.pyplot as plt\n",
    "\n",
    "class Point():\n",
    "    def __init__(self, x, y):\n",
    "        self.x = x\n",
    "        self.y = y\n",
    "        \n",
    "    def plot_point(self):\n",
    "        plt.plot(self.x, self.y, 'bo--')\n",
    "        plt.show()\n",
    "    \n",
    "    def calculate_dist(self):\n",
    "        return (self.x**2 + self.y**2)**0.5"
   ]
  },
  {
   "cell_type": "code",
   "execution_count": 19,
   "id": "3a1683e5-790a-426d-981b-96c2488ffee8",
   "metadata": {},
   "outputs": [],
   "source": [
    "P = Point(2,3)"
   ]
  },
  {
   "cell_type": "code",
   "execution_count": 20,
   "id": "63d94356-c18e-4c18-bc6f-e7ee50ca3187",
   "metadata": {},
   "outputs": [
    {
     "data": {
      "text/plain": [
       "3.605551275463989"
      ]
     },
     "execution_count": 20,
     "metadata": {},
     "output_type": "execute_result"
    }
   ],
   "source": [
    "P.calculate_dist()"
   ]
  }
 ],
 "metadata": {
  "kernelspec": {
   "display_name": "Python 3 (ipykernel)",
   "language": "python",
   "name": "python3"
  },
  "language_info": {
   "codemirror_mode": {
    "name": "ipython",
    "version": 3
   },
   "file_extension": ".py",
   "mimetype": "text/x-python",
   "name": "python",
   "nbconvert_exporter": "python",
   "pygments_lexer": "ipython3",
   "version": "3.8.8"
  }
 },
 "nbformat": 4,
 "nbformat_minor": 5
}
