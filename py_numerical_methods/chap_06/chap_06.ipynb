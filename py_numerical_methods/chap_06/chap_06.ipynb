{
 "cells": [
  {
   "cell_type": "markdown",
   "id": "278f4360-2e2b-4d33-ad8b-387c982a67bf",
   "metadata": {},
   "source": [
    "# Recursive Functions"
   ]
  },
  {
   "cell_type": "markdown",
   "id": "7683cf83-cfdf-416e-a7f9-394b150eff6f",
   "metadata": {},
   "source": [
    "## Recursive Function"
   ]
  },
  {
   "cell_type": "code",
   "execution_count": 1,
   "id": "199a8139-ea0c-460c-9b56-138107997b31",
   "metadata": {},
   "outputs": [],
   "source": [
    "def fibonacci(n):\n",
    "    if n == 1:\n",
    "        return 1\n",
    "    elif n == 2:\n",
    "        return 1\n",
    "    else:\n",
    "        return fibonacci(n-1) + fibonacci(n-2)"
   ]
  },
  {
   "cell_type": "markdown",
   "id": "2085aba1-cc96-40e7-bd0a-96c6b966a3b3",
   "metadata": {},
   "source": [
    "## Interative Function "
   ]
  },
  {
   "cell_type": "code",
   "execution_count": 7,
   "id": "657ed06f-011e-490f-806c-ed6cba615eb8",
   "metadata": {},
   "outputs": [],
   "source": [
    "import numpy as np\n",
    "def iter_fib(n):\n",
    "    fib = np.ones(n)\n",
    "    for i in range(2, n):\n",
    "        fib[i] = fib[i-1] + fib[i-2]\n",
    "    return fib[-1]"
   ]
  },
  {
   "cell_type": "code",
   "execution_count": 27,
   "id": "2f47bb14-5b02-4daf-b24a-f6d06fc18fa3",
   "metadata": {},
   "outputs": [
    {
     "name": "stdout",
     "output_type": "stream",
     "text": [
      "Recursive(  5: 0.000014)\n",
      "Interative(  5: 0.000066)\n",
      "Recursive( 10: 0.000061)\n",
      "Interative( 10: 0.000059)\n",
      "Recursive( 15: 0.000657)\n",
      "Interative( 15: 0.000077)\n",
      "Recursive( 20: 0.007888)\n",
      "Interative( 20: 0.000076)\n",
      "Recursive( 25: 0.084409)\n",
      "Interative( 25: 0.000268)\n",
      "Recursive( 30: 0.914461)\n",
      "Interative( 30: 0.000093)\n",
      "Recursive( 35: 9.823685)\n",
      "Interative( 35: 0.000135)\n"
     ]
    }
   ],
   "source": [
    "import time\n",
    "N = list(range(5, 40, 5))\n",
    "recursive = []\n",
    "interative = []\n",
    "for i in N:\n",
    "    # recursive function\n",
    "    start = time.process_time()\n",
    "    fibonacci(i)\n",
    "    t = time.process_time() - start\n",
    "    recursive.append(t)\n",
    "    print(f\"Recursive({i:>3d}: {t:>8.6f})\")\n",
    "    # interative function\n",
    "    start = time.process_time()\n",
    "    iter_fib(i)\n",
    "    t = time.process_time() - start\n",
    "    interative.append(t)\n",
    "    print(f\"Interative({i:>3d}: {t:>8.6f})\")"
   ]
  },
  {
   "cell_type": "code",
   "execution_count": 28,
   "id": "a52a010d-2f3f-44b5-a7f2-8328d2c1ae90",
   "metadata": {},
   "outputs": [
    {
     "data": {
      "image/png": "[encoded data removed]",
      "text/plain": [
       "<Figure size 432x288 with 1 Axes>"
      ]
     },
     "metadata": {
      "needs_background": "light"
     },
     "output_type": "display_data"
    }
   ],
   "source": [
    "import matplotlib.pyplot as plt\n",
    "plt.plot(N, recursive, 'bo--', label=\"Recursive Function\")\n",
    "plt.plot(N, interative, 'ro--', label=\"Interative Function\")\n",
    "plt.legend()\n",
    "plt.grid(True, linestyle=\"dashed\")\n",
    "plt.show()"
   ]
  },
  {
   "cell_type": "markdown",
   "id": "d8bd3791-6167-4c54-aea9-49350b4f81bc",
   "metadata": {},
   "source": [
    "## Tower of Hanoi Problem"
   ]
  },
  {
   "cell_type": "code",
   "execution_count": 29,
   "id": "e4359df9-b5f4-4c13-8725-aa7b192f7b1d",
   "metadata": {},
   "outputs": [],
   "source": [
    "def hanoi(N, from_tower, to_tower, alt_tower):\n",
    "    \"\"\"\n",
    "    Displays the moves required to move a tower of size N\n",
    "    from the \"from_tower\" to the \"to_tower\".\n",
    "    \n",
    "    \"from_tower\", \"to_tower\" and \"alt_tower\" are\n",
    "    either 1, 2, 3 referring to tower 1, 2, and 3.\n",
    "    \"\"\"\n",
    "    if N != 0:\n",
    "        # recursive call that moves N-1 from\n",
    "        # starting tower to alternate tower\n",
    "        hanoi(N-1, from_tower, alt_tower, to_tower)\n",
    "        \n",
    "        # display to screen movement of bottom disk from\n",
    "        # starting tower to final tower\n",
    "        print(f\"Move disk {N} from tower {from_tower} to tower {to_tower}.\")\n",
    "        \n",
    "        # revursive call that moves N-1 stack from alternate tower to final tower\n",
    "        hanoi(N-1, alt_tower, to_tower, from_tower)"
   ]
  },
  {
   "cell_type": "code",
   "execution_count": 34,
   "id": "6b00c55a-6d2c-4a4a-8da4-77416d07bdcc",
   "metadata": {},
   "outputs": [
    {
     "name": "stdout",
     "output_type": "stream",
     "text": [
      "Move disk 1 from tower 1 to tower 3.\n",
      "Move disk 2 from tower 1 to tower 2.\n",
      "Move disk 1 from tower 3 to tower 2.\n",
      "Move disk 3 from tower 1 to tower 3.\n",
      "Move disk 1 from tower 2 to tower 1.\n",
      "Move disk 2 from tower 2 to tower 3.\n",
      "Move disk 1 from tower 1 to tower 3.\n"
     ]
    }
   ],
   "source": [
    "hanoi(3, 1, 3, 2)"
   ]
  },
  {
   "cell_type": "markdown",
   "id": "268fd99c-b223-4edb-941d-9505fcc5c876",
   "metadata": {},
   "source": [
    "## Quicksort"
   ]
  },
  {
   "cell_type": "code",
   "execution_count": 38,
   "id": "ea5ee003-19a8-4406-b742-fc1cb7548409",
   "metadata": {},
   "outputs": [],
   "source": [
    "def quicksort(lst):\n",
    "    if len(lst) <= 1:\n",
    "        sorted_list = lst\n",
    "    else:\n",
    "        pivot = lst[0]\n",
    "        bigger = []\n",
    "        smaller = []\n",
    "        same = []\n",
    "        for item in lst:\n",
    "            if item > pivot:\n",
    "                bigger.append(item)\n",
    "            elif item < pivot:\n",
    "                smaller.append(item)\n",
    "            else:\n",
    "                same.append(item)\n",
    "            sorted_list = quicksort(smaller) + same + quicksort(bigger)\n",
    "    return sorted_list"
   ]
  },
  {
   "cell_type": "code",
   "execution_count": 40,
   "id": "c2e28df5-61e3-4bc3-9397-b2ef85eece1c",
   "metadata": {},
   "outputs": [
    {
     "data": {
      "text/plain": [
       "[-3, 1, 1, 2, 2, 3, 3, 6, 8, 10, 50]"
      ]
     },
     "execution_count": 40,
     "metadata": {},
     "output_type": "execute_result"
    }
   ],
   "source": [
    "quicksort([2, 1, 3, 50, 6, -3, 1, 2, 3, 8, 10])"
   ]
  },
  {
   "cell_type": "markdown",
   "id": "62207b02-012e-49f7-a1c3-f7a3e7dc11d7",
   "metadata": {},
   "source": [
    "## Problems"
   ]
  },
  {
   "cell_type": "markdown",
   "id": "a5bbfff1-2580-46e7-af2f-fcd8ee5c7bc2",
   "metadata": {},
   "source": [
    "1. Write a function my_sum(lst) where lst is a list, and the output is the sum of all the elements of lst. You can use a recursion or iteration function to solve the problem, but do not use Python’s sum function."
   ]
  },
  {
   "cell_type": "code",
   "execution_count": 44,
   "id": "6d898888-8d17-41e7-9cd7-92b5a97f99f5",
   "metadata": {},
   "outputs": [],
   "source": [
    "def rec_sum(lst):\n",
    "    if len(lst) == 0:\n",
    "        return 0\n",
    "    elif len(lst) == 1:\n",
    "        return lst[0]\n",
    "    else:\n",
    "        return lst[0] + rec_sum(lst[1:])"
   ]
  },
  {
   "cell_type": "code",
   "execution_count": 45,
   "id": "0e6a11b2-37e4-4398-8caf-5c15e550bc66",
   "metadata": {},
   "outputs": [],
   "source": [
    "def iter_sum(lst):\n",
    "    soma = 0\n",
    "    for item in lst:\n",
    "        soma += item\n",
    "    return soma"
   ]
  },
  {
   "cell_type": "code",
   "execution_count": 50,
   "id": "0fa43781-8923-48dc-9c43-a615c94d84c0",
   "metadata": {},
   "outputs": [],
   "source": [
    "import time\n",
    "N = list(range(100, 2001, 100))\n",
    "rec_time = []\n",
    "iter_time = []\n",
    "for n in N:\n",
    "    # recursive\n",
    "    start = time.process_time()\n",
    "    rec_sum(range(1, n))\n",
    "    rec_time.append(time.process_time() - start)\n",
    "    # interative\n",
    "    start = time.process_time()\n",
    "    iter_sum(range(1, n))\n",
    "    iter_time.append(time.process_time() - start)"
   ]
  },
  {
   "cell_type": "code",
   "execution_count": 51,
   "id": "9a48c721-4a4c-4648-a2de-d58cd682b1ab",
   "metadata": {},
   "outputs": [
    {
     "data": {
      "image/png": "[encoded data removed]",
      "text/plain": [
       "<Figure size 432x288 with 1 Axes>"
      ]
     },
     "metadata": {
      "needs_background": "light"
     },
     "output_type": "display_data"
    }
   ],
   "source": [
    "import matplotlib.pyplot as plt\n",
    "plt.plot(N, rec_time, 'bo--', label=\"Recursive Function\")\n",
    "plt.plot(N, iter_time, 'ro--', label=\"Interative Function\")\n",
    "plt.legend()\n",
    "plt.grid(True, linestyle=\"dashed\")\n",
    "plt.show()"
   ]
  },
  {
   "cell_type": "markdown",
   "id": "5b76445b-a032-422c-a48a-65e8602ea004",
   "metadata": {},
   "source": [
    "7. The greatest common divisor of two integers a and b is the largest integer that divides both numbers without remainder; the function to compute it is denoted by gcd(a,b). The gcd function can be written recursively. If b equals 0, then a is the greatest common divisor. Otherwise, gcd(a,b) = gcd(b,a%b) where a%b is the remainder of a divided by b. Assume that a and b are integers. Write a recursive function my_gcd(a,b) that computes the greatest common divisor of a and b. Assume that a and b are integers."
   ]
  },
  {
   "cell_type": "code",
   "execution_count": 54,
   "id": "d9124246-7a5c-48f6-ae49-591578818daa",
   "metadata": {},
   "outputs": [],
   "source": [
    "def gcd(a, b):\n",
    "    a, b = max(a, b), min(a,b)\n",
    "    if b == 0:\n",
    "        return a\n",
    "    else:\n",
    "        return gcd(b, a%b)"
   ]
  },
  {
   "cell_type": "code",
   "execution_count": 57,
   "id": "81e43679-ce03-43d6-8a35-c7245f58f20c",
   "metadata": {},
   "outputs": [
    {
     "data": {
      "text/plain": [
       "11"
      ]
     },
     "execution_count": 57,
     "metadata": {},
     "output_type": "execute_result"
    }
   ],
   "source": [
    "gcd(33, 121)"
   ]
  }
 ],
 "metadata": {
  "kernelspec": {
   "display_name": "Python 3 (ipykernel)",
   "language": "python",
   "name": "python3"
  },
  "language_info": {
   "codemirror_mode": {
    "name": "ipython",
    "version": 3
   },
   "file_extension": ".py",
   "mimetype": "text/x-python",
   "name": "python",
   "nbconvert_exporter": "python",
   "pygments_lexer": "ipython3",
   "version": "3.8.8"
  }
 },
 "nbformat": 4,
 "nbformat_minor": 5
}
