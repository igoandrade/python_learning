{
 "cells": [
  {
   "cell_type": "markdown",
   "id": "4027067a-81c7-4c3e-bed0-1b7e85596443",
   "metadata": {},
   "source": [
    "# Functions"
   ]
  },
  {
   "cell_type": "markdown",
   "id": "5ab3e4d7-4ad3-4435-8811-3b369a48c9e4",
   "metadata": {},
   "source": [
    "## Problems"
   ]
  },
  {
   "cell_type": "markdown",
   "id": "865314b7-2974-4618-8094-0a5d96330ab4",
   "metadata": {},
   "source": [
    "2. Write a function `my_checker_board(n)` where the output `n` is an $n \\times n$ array with the following form:\n",
    "\n",
    "$$\n",
    "m = \n",
    "\\begin{matrix}\n",
    "    1 & 0 & 1 & 0 & 1\\\\\n",
    "    0 & 1 & 0 & 1 & 0\\\\\n",
    "    1 & 0 & 1 & 0 & 1\\\\\n",
    "    0 & 1 & 0 & 1 & 0\\\\\n",
    "    1 & 0 & 1 & 0 & 1\n",
    "\\end{matrix}\n",
    "$$\n",
    "\n",
    "Note that the upper-left element should always be 1. Assume that n is a strictly positive integer."
   ]
  },
  {
   "cell_type": "code",
   "execution_count": 17,
   "id": "7dce5239-08b3-4e37-b1ef-a4f447217f74",
   "metadata": {},
   "outputs": [],
   "source": [
    "import numpy as np\n",
    "def my_checker_board(n):\n",
    "    if n == 1:\n",
    "        return n\n",
    "    board = np.zeros((n,n))\n",
    "    for i in range(n):\n",
    "        for j in range(n):\n",
    "            if (i + j) % 2 == 0:\n",
    "                board[i][j] = 1\n",
    "    return board"
   ]
  },
  {
   "cell_type": "code",
   "execution_count": 18,
   "id": "067f0788-3d8a-4b7e-a88e-1de094233995",
   "metadata": {},
   "outputs": [
    {
     "data": {
      "text/plain": [
       "1"
      ]
     },
     "execution_count": 18,
     "metadata": {},
     "output_type": "execute_result"
    }
   ],
   "source": [
    "my_checker_board(1)"
   ]
  },
  {
   "cell_type": "code",
   "execution_count": 19,
   "id": "82baf916-b400-4b0c-b3ca-be78bdf63867",
   "metadata": {},
   "outputs": [
    {
     "data": {
      "text/plain": [
       "array([[1., 0.],\n",
       "       [0., 1.]])"
      ]
     },
     "execution_count": 19,
     "metadata": {},
     "output_type": "execute_result"
    }
   ],
   "source": [
    "my_checker_board(2)"
   ]
  },
  {
   "cell_type": "code",
   "execution_count": 20,
   "id": "ddd38876-d68e-47ed-8c15-64df54befa46",
   "metadata": {},
   "outputs": [
    {
     "data": {
      "text/plain": [
       "array([[1., 0., 1.],\n",
       "       [0., 1., 0.],\n",
       "       [1., 0., 1.]])"
      ]
     },
     "execution_count": 20,
     "metadata": {},
     "output_type": "execute_result"
    }
   ],
   "source": [
    "my_checker_board(3)"
   ]
  },
  {
   "cell_type": "code",
   "execution_count": 21,
   "id": "f94c35a9-8ae2-4d14-94a9-e71b600992c7",
   "metadata": {},
   "outputs": [
    {
     "data": {
      "text/plain": [
       "array([[1., 0., 1., 0., 1.],\n",
       "       [0., 1., 0., 1., 0.],\n",
       "       [1., 0., 1., 0., 1.],\n",
       "       [0., 1., 0., 1., 0.],\n",
       "       [1., 0., 1., 0., 1.]])"
      ]
     },
     "execution_count": 21,
     "metadata": {},
     "output_type": "execute_result"
    }
   ],
   "source": [
    "my_checker_board(5)"
   ]
  },
  {
   "cell_type": "markdown",
   "id": "1bcb4f20-b511-412e-94da-26b645614e70",
   "metadata": {},
   "source": [
    "4. Write a function `my_split_matrix(m)`, where m is an array, the output is a list $\\left[m_1, m_2\\right]$ where $m_1$ is the left half of m, and $m_2$ is the right half of m. In the case where there is an odd number of columns, the middle column should go to $m_1$. Assume that m has at least two columns."
   ]
  },
  {
   "cell_type": "code",
   "execution_count": 45,
   "id": "dbd6831a-1c4e-4d2a-9040-475535dbf31e",
   "metadata": {},
   "outputs": [
    {
     "data": {
      "text/plain": [
       "array([[1, 2, 3],\n",
       "       [4, 5, 6],\n",
       "       [7, 8, 9]])"
      ]
     },
     "execution_count": 45,
     "metadata": {},
     "output_type": "execute_result"
    }
   ],
   "source": [
    "m = np.array([[1, 2, 3], [4, 5, 6], [7, 8, 9]])\n",
    "m"
   ]
  },
  {
   "cell_type": "code",
   "execution_count": 39,
   "id": "af37555d-491a-43d6-a6cb-3d5dd10b9c18",
   "metadata": {},
   "outputs": [
    {
     "data": {
      "text/plain": [
       "array([[1, 2],\n",
       "       [4, 5],\n",
       "       [7, 8],\n",
       "       [4, 5],\n",
       "       [7, 8]])"
      ]
     },
     "execution_count": 39,
     "metadata": {},
     "output_type": "execute_result"
    }
   ],
   "source": [
    "m[:, :2]"
   ]
  },
  {
   "cell_type": "code",
   "execution_count": 71,
   "id": "f5a1137d-f2d5-48f1-8727-459c5ce37003",
   "metadata": {},
   "outputs": [],
   "source": [
    "def my_split_matrix(m):\n",
    "    if len(m[0]) % 2 == 0:\n",
    "        n = len(m[0]) // 2\n",
    "    else:\n",
    "        n = 1 + len(m[0]) // 2\n",
    "    m1, m2 = m[:, :n], m[:, n:]\n",
    "    def reorg_mattrix(m):\n",
    "        if len(m[0]) == 1:\n",
    "            return np.array([_[0] for _ in m])\n",
    "        return m\n",
    "    return [reorg_mattrix(m1), reorg_mattrix(m2)]"
   ]
  },
  {
   "cell_type": "code",
   "execution_count": 72,
   "id": "954bdb83-340d-4752-82a2-1f6aaa08a7d2",
   "metadata": {},
   "outputs": [
    {
     "data": {
      "text/plain": [
       "[array([[1, 2],\n",
       "        [4, 5],\n",
       "        [7, 8]]),\n",
       " array([3, 6, 9])]"
      ]
     },
     "execution_count": 72,
     "metadata": {},
     "output_type": "execute_result"
    }
   ],
   "source": [
    "my_split_matrix(m)"
   ]
  },
  {
   "cell_type": "code",
   "execution_count": 66,
   "id": "fbe620dc-c78c-4399-8937-c8c599e7ed72",
   "metadata": {},
   "outputs": [
    {
     "data": {
      "text/plain": [
       "3"
      ]
     },
     "execution_count": 66,
     "metadata": {},
     "output_type": "execute_result"
    }
   ],
   "source": [
    "len(m2)"
   ]
  },
  {
   "cell_type": "code",
   "execution_count": 68,
   "id": "8d8fc279-0cbb-4c97-8ac2-1fd965a37460",
   "metadata": {},
   "outputs": [
    {
     "name": "stdout",
     "output_type": "stream",
     "text": [
      "[3]\n",
      "[6]\n",
      "[9]\n"
     ]
    }
   ],
   "source": [
    "for i in m2:\n",
    "    print(i)"
   ]
  },
  {
   "cell_type": "code",
   "execution_count": null,
   "id": "242b7161-0909-4f57-a1a9-5667c4d32e99",
   "metadata": {},
   "outputs": [],
   "source": []
  }
 ],
 "metadata": {
  "kernelspec": {
   "display_name": "ds39",
   "language": "python",
   "name": "ds39"
  },
  "language_info": {
   "codemirror_mode": {
    "name": "ipython",
    "version": 3
   },
   "file_extension": ".py",
   "mimetype": "text/x-python",
   "name": "python",
   "nbconvert_exporter": "python",
   "pygments_lexer": "ipython3",
   "version": "3.9.7"
  }
 },
 "nbformat": 4,
 "nbformat_minor": 5
}
