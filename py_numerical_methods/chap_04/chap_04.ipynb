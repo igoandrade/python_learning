{
 "cells": [
  {
   "cell_type": "markdown",
   "id": "a48da1b3-a984-462c-b3f8-3fbcf547a2ab",
   "metadata": {},
   "source": [
    "# Branching Statements"
   ]
  },
  {
   "cell_type": "markdown",
   "id": "87411e4b-2515-4dd3-adde-ad8d7556ccc4",
   "metadata": {},
   "source": [
    "## Problems"
   ]
  },
  {
   "cell_type": "markdown",
   "id": "2543dfea-58d5-4589-aa6d-7aadabc82a45",
   "metadata": {},
   "source": [
    "3. Consider a triangle with vertices at (0, 0), (1, 0), and (0, 1). Write a function with the name my_inside_triangle(x,y) where the output is the string \"outside\" if the point (x, y) is outside of the triangle, \"border\" if the point is exactly on the border of the triangle, and \"inside\" if the point is on the inside of the triangle."
   ]
  },
  {
   "cell_type": "code",
   "execution_count": 23,
   "id": "aee5c1f4-6760-4ab1-ab62-18b9cf20e940",
   "metadata": {},
   "outputs": [],
   "source": [
    "def my_inside_triangle(x,y):\n",
    "    if y > 0 and y < 1 - x and x > 0:\n",
    "        return 'inside'\n",
    "    if y == 0 or y == 1 - x or x == 0:\n",
    "        return 'border'\n",
    "    return 'outside'"
   ]
  },
  {
   "cell_type": "code",
   "execution_count": 24,
   "id": "0e830fac-c3fd-4319-b2db-71f619de956a",
   "metadata": {},
   "outputs": [
    {
     "data": {
      "text/plain": [
       "'border'"
      ]
     },
     "execution_count": 24,
     "metadata": {},
     "output_type": "execute_result"
    }
   ],
   "source": [
    "my_inside_triangle(0.5, 0.5)"
   ]
  },
  {
   "cell_type": "code",
   "execution_count": 25,
   "id": "9d1691b1-d746-4260-a696-802ffe19a0d1",
   "metadata": {},
   "outputs": [
    {
     "data": {
      "text/plain": [
       "'inside'"
      ]
     },
     "execution_count": 25,
     "metadata": {},
     "output_type": "execute_result"
    }
   ],
   "source": [
    "my_inside_triangle(0.25, 0.25)"
   ]
  },
  {
   "cell_type": "code",
   "execution_count": 26,
   "id": "a878a300-3403-4060-a991-cc5b5571d831",
   "metadata": {},
   "outputs": [
    {
     "data": {
      "text/plain": [
       "'outside'"
      ]
     },
     "execution_count": 26,
     "metadata": {},
     "output_type": "execute_result"
    }
   ],
   "source": [
    "my_inside_triangle(5, 5)"
   ]
  }
 ],
 "metadata": {
  "kernelspec": {
   "display_name": "ds39",
   "language": "python",
   "name": "ds39"
  },
  "language_info": {
   "codemirror_mode": {
    "name": "ipython",
    "version": 3
   },
   "file_extension": ".py",
   "mimetype": "text/x-python",
   "name": "python",
   "nbconvert_exporter": "python",
   "pygments_lexer": "ipython3",
   "version": "3.9.7"
  }
 },
 "nbformat": 4,
 "nbformat_minor": 5
}
