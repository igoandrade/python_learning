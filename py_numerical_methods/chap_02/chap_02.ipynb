{
 "cells": [
  {
   "cell_type": "markdown",
   "id": "d8bf40ee-eeb3-40c7-889a-e44c1f5cb64e",
   "metadata": {},
   "source": [
    "# Variables and Basic Data Structures"
   ]
  },
  {
   "cell_type": "markdown",
   "id": "151eaaef-e6fe-4d0d-aada-4403bd09598c",
   "metadata": {},
   "source": [
    "## Introducing `numpy` Arrays"
   ]
  },
  {
   "cell_type": "code",
   "execution_count": 1,
   "id": "c5490b4b-b373-4efb-864f-071d0ef99920",
   "metadata": {},
   "outputs": [],
   "source": [
    "import numpy as np"
   ]
  },
  {
   "cell_type": "code",
   "execution_count": 2,
   "id": "7a76ce8a-384c-46ac-a074-f4acefa287d2",
   "metadata": {},
   "outputs": [],
   "source": [
    "x = np.array([1, 4, 3])"
   ]
  },
  {
   "cell_type": "code",
   "execution_count": 3,
   "id": "944cc202-ccda-4aad-9d8c-b02a153cc967",
   "metadata": {},
   "outputs": [
    {
     "data": {
      "text/plain": [
       "array([1, 4, 3])"
      ]
     },
     "execution_count": 3,
     "metadata": {},
     "output_type": "execute_result"
    }
   ],
   "source": [
    "x"
   ]
  },
  {
   "cell_type": "code",
   "execution_count": 4,
   "id": "334beba0-c7b2-4139-8e1e-e42d49c4df11",
   "metadata": {},
   "outputs": [],
   "source": [
    "y = np.array([\n",
    "    [1,4,3],\n",
    "    [9,2,7]\n",
    "])"
   ]
  },
  {
   "cell_type": "code",
   "execution_count": 5,
   "id": "41b7493c-9e94-4986-add5-86fca317c357",
   "metadata": {},
   "outputs": [
    {
     "data": {
      "text/plain": [
       "array([[1, 4, 3],\n",
       "       [9, 2, 7]])"
      ]
     },
     "execution_count": 5,
     "metadata": {},
     "output_type": "execute_result"
    }
   ],
   "source": [
    "y"
   ]
  },
  {
   "cell_type": "code",
   "execution_count": 6,
   "id": "4692494e-bad6-434e-bbad-ea67e40bedb5",
   "metadata": {},
   "outputs": [],
   "source": [
    "a = np.array([\n",
    "    [1, 2],\n",
    "    [3, 4]\n",
    "])\n",
    "\n",
    "b = np.array([\n",
    "    [3, 4],\n",
    "    [5, 6]\n",
    "])"
   ]
  },
  {
   "cell_type": "code",
   "execution_count": 7,
   "id": "c1d194ab-f925-42ed-a116-50eea2d5ef52",
   "metadata": {},
   "outputs": [
    {
     "data": {
      "text/plain": [
       "array([[ 3,  8],\n",
       "       [15, 24]])"
      ]
     },
     "execution_count": 7,
     "metadata": {},
     "output_type": "execute_result"
    }
   ],
   "source": [
    "a * b"
   ]
  },
  {
   "cell_type": "code",
   "execution_count": 8,
   "id": "a6f44827-1b6d-4082-ae53-0459448904f0",
   "metadata": {},
   "outputs": [
    {
     "data": {
      "text/plain": [
       "array([[13, 16],\n",
       "       [29, 36]])"
      ]
     },
     "execution_count": 8,
     "metadata": {},
     "output_type": "execute_result"
    }
   ],
   "source": [
    "a.dot(b)"
   ]
  },
  {
   "cell_type": "code",
   "execution_count": 9,
   "id": "f1d18218-eb90-46bd-b5e7-aef059137e2c",
   "metadata": {},
   "outputs": [
    {
     "data": {
      "text/plain": [
       "array([[   1,   16],\n",
       "       [ 243, 4096]])"
      ]
     },
     "execution_count": 9,
     "metadata": {},
     "output_type": "execute_result"
    }
   ],
   "source": [
    "a**b"
   ]
  },
  {
   "cell_type": "code",
   "execution_count": 10,
   "id": "a3903930-4d9d-4142-bba8-6ec7b8eb2fe4",
   "metadata": {},
   "outputs": [
    {
     "data": {
      "text/plain": [
       "array([[1, 3],\n",
       "       [2, 4]])"
      ]
     },
     "execution_count": 10,
     "metadata": {},
     "output_type": "execute_result"
    }
   ],
   "source": [
    "a.T"
   ]
  }
 ],
 "metadata": {
  "kernelspec": {
   "display_name": "ds39",
   "language": "python",
   "name": "ds39"
  },
  "language_info": {
   "codemirror_mode": {
    "name": "ipython",
    "version": 3
   },
   "file_extension": ".py",
   "mimetype": "text/x-python",
   "name": "python",
   "nbconvert_exporter": "python",
   "pygments_lexer": "ipython3",
   "version": "3.9.7"
  }
 },
 "nbformat": 4,
 "nbformat_minor": 5
}
