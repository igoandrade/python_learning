{
 "cells": [
  {
   "cell_type": "markdown",
   "id": "712eabe4-ac09-4840-a00b-d7649fa829bd",
   "metadata": {},
   "source": [
    "# Python Basics"
   ]
  },
  {
   "cell_type": "markdown",
   "id": "3cf1146c-e47e-4b40-ad0b-449c284d771f",
   "metadata": {},
   "source": [
    "## Problems"
   ]
  },
  {
   "cell_type": "markdown",
   "id": "791b9a53-2523-4c56-a6b5-75a8efdd0911",
   "metadata": {},
   "source": [
    "10. Although a year is considered to be 365 days long, a more exact figure is 365.24 days. As a consequence, if we held to the standard 365-day year, we would gradually lose that fraction of the day over time, and seasons and other astronomical events would not occur as expected. To keep the timescale on tract, a leap year is a year that includes an extra day, February 29, to keep the timescale on track. Leap years occur on years that are exactly divisible by 4, unless it is exactly divisible by 100, unless it is divisible by 400. For example, the year 2004 is a leap year, the year 1900 is not a leap year, and the year 2000 is a leap year. Compute the number of leap years between the years 1500 and 2010."
   ]
  },
  {
   "cell_type": "code",
   "execution_count": 1,
   "id": "85b48fcb-909c-49ac-8de2-b32ccdb4c4ed",
   "metadata": {},
   "outputs": [],
   "source": [
    "def leap_year(year):\n",
    "    return (year % 400 == 0) or (year % 4 == 0 and year % 100 != 0)"
   ]
  },
  {
   "cell_type": "code",
   "execution_count": 11,
   "id": "3eb7d5f3-b510-4a83-be3b-48060e4ab785",
   "metadata": {},
   "outputs": [
    {
     "name": "stdout",
     "output_type": "stream",
     "text": [
      "1504 1508 1512 1516 1520 1524 1528 1532 1536 1540 1544 1548 1552 1556 1560 1564 1568 1572 1576 1580\n",
      "1584 1588 1592 1596 1600 1604 1608 1612 1616 1620 1624 1628 1632 1636 1640 1644 1648 1652 1656 1660\n",
      "1664 1668 1672 1676 1680 1684 1688 1692 1696 1704 1708 1712 1716 1720 1724 1728 1732 1736 1740 1744\n",
      "1748 1752 1756 1760 1764 1768 1772 1776 1780 1784 1788 1792 1796 1804 1808 1812 1816 1820 1824 1828\n",
      "1832 1836 1840 1844 1848 1852 1856 1860 1864 1868 1872 1876 1880 1884 1888 1892 1896 1904 1908 1912\n",
      "1916 1920 1924 1928 1932 1936 1940 1944 1948 1952 1956 1960 1964 1968 1972 1976 1980 1984 1988 1992\n",
      "1996 2000 2004 2008 "
     ]
    }
   ],
   "source": [
    "i = 1\n",
    "for year in range(1500, 2011):\n",
    "    if leap_year(year):\n",
    "        if i % 20 != 0:\n",
    "            print(year, end = \" \")\n",
    "        else:\n",
    "            print(year)\n",
    "        i += 1"
   ]
  },
  {
   "cell_type": "markdown",
   "id": "90810c04-319a-47d0-89e1-431f1cd7c53c",
   "metadata": {},
   "source": [
    "11. A very powerful approximation for $\\pi$ was developed by a brilliant mathematician named Srinivasa Ramanujan. The approximation is the following:\n",
    "\n",
    "$$\\dfrac{1}{\\pi} \\approx \\dfrac{2\\sqrt{2}}{9801} \\sum_{k=0}^{N} \\dfrac{(4k)! (1103 + 26390k)}{(k!)^4 396^{4k}}$$\n",
    "\n",
    "Use Ramanujan’s formula for $N = 0$ and $N = 1$ to approximate $\\pi$. Compare your approximation\n",
    "with Python’s stored value for $\\pi$. Hint: $0! = 1$ by definition."
   ]
  },
  {
   "cell_type": "code",
   "execution_count": 18,
   "id": "b382d7d3-51fa-48f2-8e6d-830e8eedbf14",
   "metadata": {},
   "outputs": [],
   "source": [
    "import math\n",
    "def ramajujan_pi(N = 10):\n",
    "    if N == 0:\n",
    "        return 9801/(1103 * 2**(3/2))\n",
    "    inverse_pi = 0\n",
    "    for k in range(N):\n",
    "        inverse_pi += (math.factorial(4*k) * (1103 + 26390*k))/((math.factorial(k))**4 * 396**(4*k))\n",
    "    inverse_pi *= (2**(3/2))/9801\n",
    "    return 1/inverse_pi"
   ]
  },
  {
   "cell_type": "code",
   "execution_count": 19,
   "id": "1617da54-b17e-47d3-8284-a1b85cb23a85",
   "metadata": {},
   "outputs": [
    {
     "data": {
      "text/plain": [
       "3.141592653589793"
      ]
     },
     "execution_count": 19,
     "metadata": {},
     "output_type": "execute_result"
    }
   ],
   "source": [
    "ramajujan_pi()"
   ]
  },
  {
   "cell_type": "code",
   "execution_count": 20,
   "id": "583f91be-828a-4f91-aa4e-6a045d54bea7",
   "metadata": {},
   "outputs": [
    {
     "data": {
      "text/plain": [
       "3.1415927300133055"
      ]
     },
     "execution_count": 20,
     "metadata": {},
     "output_type": "execute_result"
    }
   ],
   "source": [
    "ramajujan_pi(0)"
   ]
  },
  {
   "cell_type": "code",
   "execution_count": 21,
   "id": "d5cc9336-71b4-47de-b67f-4fd8abd89934",
   "metadata": {},
   "outputs": [
    {
     "data": {
      "text/plain": [
       "3.1415927300133055"
      ]
     },
     "execution_count": 21,
     "metadata": {},
     "output_type": "execute_result"
    }
   ],
   "source": [
    "ramajujan_pi(1)"
   ]
  }
 ],
 "metadata": {
  "kernelspec": {
   "display_name": "ds39",
   "language": "python",
   "name": "ds39"
  },
  "language_info": {
   "codemirror_mode": {
    "name": "ipython",
    "version": 3
   },
   "file_extension": ".py",
   "mimetype": "text/x-python",
   "name": "python",
   "nbconvert_exporter": "python",
   "pygments_lexer": "ipython3",
   "version": "3.9.7"
  }
 },
 "nbformat": 4,
 "nbformat_minor": 5
}
