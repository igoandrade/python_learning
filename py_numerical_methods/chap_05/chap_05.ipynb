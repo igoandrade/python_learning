{
 "cells": [
  {
   "cell_type": "markdown",
   "id": "a53f5bc9-21b8-434a-95ed-82532339f2db",
   "metadata": {},
   "source": [
    "# Iteractions"
   ]
  },
  {
   "cell_type": "markdown",
   "id": "da1f2027-0645-4c59-abcf-129d43d6ba22",
   "metadata": {},
   "source": [
    "## Problems"
   ]
  },
  {
   "cell_type": "markdown",
   "id": "a06609c0-09ed-419e-8356-007c877d76e7",
   "metadata": {},
   "source": [
    "3. Write a function my_n_max(x, n) to return a list consisting of the n largest elements of x. You may use Python’s max function. You may also assume that x is a one-dimensional list with no duplicate entries, and that n is a strictly positive integer smaller than the length of x."
   ]
  },
  {
   "cell_type": "code",
   "execution_count": 2,
   "id": "50182b3f-b405-492f-a9ba-6342649a31be",
   "metadata": {},
   "outputs": [],
   "source": [
    "def my_n_max(x, n):\n",
    "    temp = []\n",
    "    for e in x:\n",
    "        if e not in temp:\n",
    "            temp.append(e)\n",
    "    x = temp\n",
    "    n = min(n, len(x))\n",
    "    output = []\n",
    "    for i in range(n):\n",
    "        maximum = max(x)\n",
    "        output.append(maximum)\n",
    "        while maximum in x:\n",
    "            x.remove(maximum)\n",
    "    return output"
   ]
  },
  {
   "cell_type": "code",
   "execution_count": 5,
   "id": "9a70fa42-0db4-4aa4-86e7-4f4a24cde034",
   "metadata": {},
   "outputs": [
    {
     "data": {
      "text/plain": [
       "[10, 9, 8]"
      ]
     },
     "execution_count": 5,
     "metadata": {},
     "output_type": "execute_result"
    }
   ],
   "source": [
    "x = [7, 9, 10, 5, 8, 3, 4, 6, 2, 1]\n",
    "my_n_max(x, 3)"
   ]
  },
  {
   "cell_type": "code",
   "execution_count": 10,
   "id": "10059cfa-83fb-4b6d-bd64-8eeb9606027e",
   "metadata": {},
   "outputs": [
    {
     "data": {
      "text/plain": [
       "[10, 9]"
      ]
     },
     "execution_count": 10,
     "metadata": {},
     "output_type": "execute_result"
    }
   ],
   "source": [
    "x = [7, 9, 9, 10, 5, 5, 8, 9, 3, 4, 6, 2, 1]\n",
    "my_n_max(x, 2)"
   ]
  },
  {
   "cell_type": "markdown",
   "id": "c8fabfc1-a0bb-4bc7-88a4-22799ab62839",
   "metadata": {},
   "source": [
    "9. A number is prime if it is divisible without remainder only by itself and 1. The number 1 is not a prime. Write a function my_is_prime(n) where the output is 1 if n is prime and 0 is otherwise. Assume that n is a strictly positive integer."
   ]
  },
  {
   "cell_type": "code",
   "execution_count": 11,
   "id": "60274526-a292-4957-ad9e-4b80695e79a6",
   "metadata": {},
   "outputs": [],
   "source": [
    "def my_is_prime(n):\n",
    "    if n < 2:\n",
    "        return 0\n",
    "    end = n**0.5\n",
    "    i = 2\n",
    "    while i < end:\n",
    "        if n % i == 0:\n",
    "            return 0\n",
    "        i += 1\n",
    "    return 1"
   ]
  },
  {
   "cell_type": "code",
   "execution_count": 14,
   "id": "e10dcb1d-080b-44fb-bcc9-0b78a742cc58",
   "metadata": {},
   "outputs": [
    {
     "name": "stdout",
     "output_type": "stream",
     "text": [
      "  2   3   4   5   7   9  11  13  17  19\n",
      " 23  25  29  31  37  41  43  47  49  53\n",
      " 59  61  67  71  73  79  83  89  97 "
     ]
    }
   ],
   "source": [
    "i = 1\n",
    "for n in range(100):\n",
    "    if my_is_prime(n) == 1:\n",
    "        if i % 10 != 0:\n",
    "            print(f\"{n:>3d}\", end = \" \")\n",
    "        else:\n",
    "            print(f\"{n:>3d}\")\n",
    "        i += 1"
   ]
  },
  {
   "cell_type": "markdown",
   "id": "1a268ce6-6e5d-4482-8150-a6b1d81c7706",
   "metadata": {},
   "source": [
    "10. Write a function my_n_primes(n) where prime is a list of the first n primes. Assume that n is a strictly positive integer."
   ]
  },
  {
   "cell_type": "code",
   "execution_count": 22,
   "id": "b2d9a92e-e06e-4d64-87b5-8282ea12a0d6",
   "metadata": {},
   "outputs": [],
   "source": [
    "def my_n_primes(n):\n",
    "    if n == 0:\n",
    "        return []\n",
    "    if n == 1:\n",
    "        return [2]\n",
    "    primes = [2]\n",
    "    p = 3\n",
    "    while len(primes) < n:\n",
    "        if my_is_prime(p) == 1:\n",
    "            primes.append(p)\n",
    "        p += 2\n",
    "    return primes"
   ]
  },
  {
   "cell_type": "code",
   "execution_count": 26,
   "id": "9a8aab59-e17c-4e67-8ec3-0f280d7da6ab",
   "metadata": {},
   "outputs": [
    {
     "name": "stdout",
     "output_type": "stream",
     "text": [
      "   2    3    5    7    9   11   13   17   19   23\n",
      "  25   29   31   37   41   43   47   49   53   59\n",
      "  61   67   71   73   79   83   89   97  101  103\n",
      " 107  109  113  121  127  131  137  139  149  151\n",
      " 157  163  167  169  173  179  181  191  193  197\n",
      " 199  211  223  227  229  233  239  241  251  257\n",
      " 263  269  271  277  281  283  289  293  307  311\n",
      " 313  317  331  337  347  349  353  359  361  367\n",
      " 373  379  383  389  397  401  409  419  421  431\n",
      " 433  439  443  449  457  461  463  467  479  487\n"
     ]
    }
   ],
   "source": [
    "i = 1\n",
    "for p in my_n_primes(100):\n",
    "    if i % 10 != 0:\n",
    "        print(f\"{p:>4d}\", end=\" \")\n",
    "    else:\n",
    "        print(f\"{p:>4d}\")\n",
    "    i += 1"
   ]
  },
  {
   "cell_type": "markdown",
   "id": "49512e57-9e80-4557-9c30-50b3c066fcc0",
   "metadata": {},
   "source": [
    "11. Write a function my_n_fib_primes(n) where the output fib_primes is a list of the first n numbers that are both a Fibonacci number and a prime. Note that 1 is not prime. Hint: Do not use the recursive implementation of Fibonacci numbers. "
   ]
  },
  {
   "cell_type": "code",
   "execution_count": 42,
   "id": "f0648469-e02a-4ddd-a7ab-cd11c2b95cc2",
   "metadata": {},
   "outputs": [],
   "source": [
    "def is_fib(n):\n",
    "    f1, f2 = 0, 1\n",
    "    while f1 < n:\n",
    "        f1, f2 = f2, f1+f2\n",
    "    return f1 == n"
   ]
  },
  {
   "cell_type": "code",
   "execution_count": 48,
   "id": "ffa82119-905b-4fb3-b4a7-4a6ef502bc99",
   "metadata": {},
   "outputs": [],
   "source": [
    "def my_n_fib_primes(n):\n",
    "    fib_primes = []\n",
    "    i = 0\n",
    "    while len(fib_primes) != n:\n",
    "        if (is_fib(i) and my_is_prime(i)==1):\n",
    "            fib_primes.append(i)\n",
    "        i += 1\n",
    "    return fib_primes"
   ]
  },
  {
   "cell_type": "code",
   "execution_count": 50,
   "id": "0b9504ea-a31d-4c54-a549-e4ba5c8db2c9",
   "metadata": {},
   "outputs": [
    {
     "name": "stdout",
     "output_type": "stream",
     "text": [
      "0 []\n",
      "1 [2]\n",
      "2 [2, 3]\n",
      "3 [2, 3, 5]\n",
      "4 [2, 3, 5, 13]\n",
      "5 [2, 3, 5, 13, 89]\n",
      "6 [2, 3, 5, 13, 89, 233]\n",
      "7 [2, 3, 5, 13, 89, 233, 1597]\n",
      "8 [2, 3, 5, 13, 89, 233, 1597, 28657]\n",
      "9 [2, 3, 5, 13, 89, 233, 1597, 28657, 514229]\n"
     ]
    }
   ],
   "source": [
    "for i in range(10):\n",
    "    print(i, my_n_fib_primes(i))"
   ]
  },
  {
   "cell_type": "markdown",
   "id": "0b283c36-914b-45dc-b815-a06f59ff5a2b",
   "metadata": {},
   "source": [
    "13. Let C be a square connectivity array containing zeros and ones. Point i has a connection to point j or i is connected to j if C[i,j] = 1. Note that connections in this context are one-directional, meaning C[i,j] is not necessarily the same as C[j,i]. For example, think of a one-way street from point A to point B. If A is connected to B, then B is not necessarily connected to A. Write a function my_connectivity_mat_2_dict(C, names) where C is a connectivity array and names is a list of strings that denote the name of a point. That is, names[i] is the name of the name of the ith point. The output variable node should be a dictionary with the key as the string in names, and value is a vector containing the indices j, such that C[i,j] = 1. In other words, it is a list of points that point i is connected to."
   ]
  },
  {
   "cell_type": "code",
   "execution_count": 11,
   "id": "4aea2836-82bc-4ab9-a551-03dfe21c6873",
   "metadata": {},
   "outputs": [],
   "source": [
    "def my_connectivity_mat_2_dict(C, names):\n",
    "    node = {}\n",
    "    for k, v in zip(names, C):\n",
    "        node[k] = [_+1 for _ in range(len(v)) if v[_] == 1]\n",
    "    return node"
   ]
  },
  {
   "cell_type": "code",
   "execution_count": 13,
   "id": "31bbbbf5-751b-450d-b9bd-bb540568a133",
   "metadata": {},
   "outputs": [
    {
     "data": {
      "text/plain": [
       "{'Los Angeles': [2, 4], 'New York': [1, 4], 'Miami': [4], 'Dallas': [1, 2, 3]}"
      ]
     },
     "execution_count": 13,
     "metadata": {},
     "output_type": "execute_result"
    }
   ],
   "source": [
    "C = [[0, 1, 0, 1], [1, 0, 0, 1], [0, 0, 0, 1], [1, 1, 1, 0]]\n",
    "names = [\"Los Angeles\", \"New York\", \"Miami\", \"Dallas\"]\n",
    "node = my_connectivity_mat_2_dict(C, names)\n",
    "node"
   ]
  },
  {
   "cell_type": "code",
   "execution_count": 14,
   "id": "0021260e-368d-4ced-9ac2-603a92a3a29f",
   "metadata": {},
   "outputs": [
    {
     "data": {
      "text/plain": [
       "[2, 4]"
      ]
     },
     "execution_count": 14,
     "metadata": {},
     "output_type": "execute_result"
    }
   ],
   "source": [
    "node['Los Angeles']"
   ]
  }
 ],
 "metadata": {
  "kernelspec": {
   "display_name": "ds39",
   "language": "python",
   "name": "ds39"
  },
  "language_info": {
   "codemirror_mode": {
    "name": "ipython",
    "version": 3
   },
   "file_extension": ".py",
   "mimetype": "text/x-python",
   "name": "python",
   "nbconvert_exporter": "python",
   "pygments_lexer": "ipython3",
   "version": "3.9.7"
  }
 },
 "nbformat": 4,
 "nbformat_minor": 5
}
