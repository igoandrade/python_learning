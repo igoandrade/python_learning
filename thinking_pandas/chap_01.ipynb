{
 "cells": [
  {
   "cell_type": "markdown",
   "id": "6ab3d692-fafd-40d6-85ac-b2a5861a2ede",
   "metadata": {},
   "source": [
    "# Fundamentos da análise exploratória de dados"
   ]
  },
  {
   "cell_type": "markdown",
   "id": "4f4c07e8-26e0-46c2-beed-0ace2cdc4af1",
   "metadata": {},
   "source": [
    "## Numpy"
   ]
  },
  {
   "cell_type": "code",
   "execution_count": null,
   "id": "100216db-568d-4e29-822f-2c2a10164c48",
   "metadata": {},
   "outputs": [],
   "source": []
  }
 ],
 "metadata": {
  "kernelspec": {
   "display_name": "ds39",
   "language": "python",
   "name": "ds39"
  },
  "language_info": {
   "codemirror_mode": {
    "name": "ipython",
    "version": 3
   },
   "file_extension": ".py",
   "mimetype": "text/x-python",
   "name": "python",
   "nbconvert_exporter": "python",
   "pygments_lexer": "ipython3",
   "version": "3.9.7"
  }
 },
 "nbformat": 4,
 "nbformat_minor": 5
}
