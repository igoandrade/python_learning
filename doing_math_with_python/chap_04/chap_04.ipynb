{
 "cells": [
  {
   "cell_type": "markdown",
   "id": "68ac17b7-e805-4fd6-89e7-d8b35db93331",
   "metadata": {},
   "source": [
    "# Algebra and Symbolic Math"
   ]
  },
  {
   "cell_type": "code",
   "execution_count": 2,
   "id": "02d88a73-129a-4573-b7e3-93f43b3b637b",
   "metadata": {},
   "outputs": [],
   "source": [
    "import warnings\n",
    "warnings.filterwarnings(\"ignore\", category=UserWarning)"
   ]
  },
  {
   "cell_type": "code",
   "execution_count": 3,
   "id": "a7b6e269-8b4f-466d-b8e2-a6a55c51df07",
   "metadata": {},
   "outputs": [],
   "source": [
    "import sympy as sp"
   ]
  },
  {
   "cell_type": "code",
   "execution_count": 4,
   "id": "3f544c1b-90fc-4809-b7f8-7307ff15f61e",
   "metadata": {},
   "outputs": [],
   "source": [
    "a, b, c, x = sp.symbols('a b c x')"
   ]
  },
  {
   "cell_type": "code",
   "execution_count": 6,
   "id": "32b7f489-4ad6-4616-a1e6-209345247cc4",
   "metadata": {},
   "outputs": [
    {
     "data": {
      "text/plain": [
       "[{x: (-b + sqrt(-4*a*c + b**2))/(2*a)}, {x: -(b + sqrt(-4*a*c + b**2))/(2*a)}]"
      ]
     },
     "execution_count": 6,
     "metadata": {},
     "output_type": "execute_result"
    }
   ],
   "source": [
    "expr = a*x**2 + b*x + c\n",
    "sp.solve(expr, x, dict=True)"
   ]
  },
  {
   "cell_type": "code",
   "execution_count": 12,
   "id": "6fd73ab6-fa08-4ce1-b1c1-533ce6dad629",
   "metadata": {},
   "outputs": [
    {
     "name": "stdout",
     "output_type": "stream",
     "text": [
      "        _____________\n",
      "       ╱           2 \n",
      "-b + ╲╱  -4⋅a⋅c + b  \n",
      "─────────────────────\n",
      "         2⋅a         \n",
      " ⎛       _____________⎞ \n",
      " ⎜      ╱           2 ⎟ \n",
      "-⎝b + ╲╱  -4⋅a⋅c + b  ⎠ \n",
      "────────────────────────\n",
      "          2⋅a           \n"
     ]
    }
   ],
   "source": [
    "for item in sp.solve(expr, x, dict=True):\n",
    "    sp.pprint(item[x])"
   ]
  },
  {
   "cell_type": "code",
   "execution_count": 13,
   "id": "575045a2-92a8-496c-b32c-ca7506d324aa",
   "metadata": {},
   "outputs": [
    {
     "data": {
      "text/plain": [
       "[{x: 24/5, y: -6/5}]"
      ]
     },
     "execution_count": 13,
     "metadata": {},
     "output_type": "execute_result"
    }
   ],
   "source": [
    "x, y = sp.symbols('x y')\n",
    "expr1, expr2 = 2*x + 3*y - 6, 3*x + 2*y - 12\n",
    "sp.solve((expr1, expr2), dict=True)"
   ]
  },
  {
   "cell_type": "code",
   "execution_count": 14,
   "id": "8056a22c-fb19-41bb-ae76-300243d2d792",
   "metadata": {},
   "outputs": [
    {
     "data": {
      "text/latex": [
       "$\\displaystyle 0$"
      ],
      "text/plain": [
       "0"
      ]
     },
     "execution_count": 14,
     "metadata": {},
     "output_type": "execute_result"
    }
   ],
   "source": [
    "soln = sp.solve((expr1, expr2), dict=True)\n",
    "soln = soln[0]\n",
    "expr1.subs({x:soln[x], y:soln[y]})"
   ]
  },
  {
   "cell_type": "code",
   "execution_count": 33,
   "id": "bae10d4f-ffc6-4c11-9b69-184133ecea31",
   "metadata": {},
   "outputs": [
    {
     "data": {
      "image/png": "[encoded data removed]",
      "text/plain": [
       "<Figure size 432x288 with 1 Axes>"
      ]
     },
     "metadata": {
      "needs_background": "light"
     },
     "output_type": "display_data"
    },
    {
     "data": {
      "text/plain": [
       "<sympy.plotting.plot.Plot at 0x7fb7bbac8400>"
      ]
     },
     "execution_count": 33,
     "metadata": {},
     "output_type": "execute_result"
    }
   ],
   "source": [
    "y1 = sp.solve(expr1, y, dict=True)\n",
    "y1 = y1[0][y]\n",
    "\n",
    "y2 = sp.solve(expr2, y, dict=True)\n",
    "y2 = y2[0][y]\n",
    "\n",
    "sp.plot(y1, y2, \n",
    "        title=\"Sistemas de equações\", \n",
    "        xlabel=\"x\", ylabel=\"y\",\n",
    "        xlim=[0, 6], ylim=[-4,7])"
   ]
  },
  {
   "cell_type": "code",
   "execution_count": 34,
   "id": "bef880f2-38e9-4a53-b529-515a00548260",
   "metadata": {},
   "outputs": [],
   "source": [
    "from sympy.plotting import plot"
   ]
  },
  {
   "cell_type": "code",
   "execution_count": 36,
   "id": "26b03a33-77b2-4b17-aafb-aa75081003de",
   "metadata": {},
   "outputs": [
    {
     "data": {
      "image/png": "[encoded data removed]",
      "text/plain": [
       "<Figure size 432x288 with 1 Axes>"
      ]
     },
     "metadata": {
      "needs_background": "light"
     },
     "output_type": "display_data"
    }
   ],
   "source": [
    "p = plot(y1, y2, \n",
    "         legend=True, \n",
    "         show=False,\n",
    "         xlabel=\"x\", ylabel=\"y\",\n",
    "         xlim=[0, 6], ylim=[-4,7])\n",
    "p[0].line_color = 'b'\n",
    "p[1].line_color = 'r'\n",
    "p.show()"
   ]
  },
  {
   "cell_type": "markdown",
   "id": "64029c1f-e552-40cc-ae8b-e7747ce37078",
   "metadata": {},
   "source": [
    "## Programming Challenges"
   ]
  },
  {
   "cell_type": "markdown",
   "id": "6176e34d-676c-4c3f-a7a0-ed5c1fc1dc66",
   "metadata": {},
   "source": [
    "### Graphical Equation Solver"
   ]
  },
  {
   "cell_type": "code",
   "execution_count": 45,
   "id": "f12ceebc-fa58-4f6b-b7d4-a335f6b661c0",
   "metadata": {},
   "outputs": [],
   "source": [
    "from sympy import *\n",
    "def get_explicit_function(expr):\n",
    "    expr = solve(expr, y, dict=True)\n",
    "    expr = expr[0][y]\n",
    "    return expr"
   ]
  },
  {
   "cell_type": "code",
   "execution_count": 53,
   "id": "1fac44bd-0198-4cf8-a253-5565e9d822b4",
   "metadata": {},
   "outputs": [
    {
     "name": "stdin",
     "output_type": "stream",
     "text": [
      "Enter your first expression in terms of x and y:  y - exp(-.2*x)*cos(x)\n",
      "Enter your second expression in terms of x and y:  y - exp(-.2*x)\n"
     ]
    }
   ],
   "source": [
    "expr1 = input('Enter your first expression in terms of x and y: ')\n",
    "expr2 = input('Enter your second expression in terms of x and y: ')"
   ]
  },
  {
   "cell_type": "code",
   "execution_count": 54,
   "id": "246c00cf-5ba6-41a0-9631-f0d69086b97f",
   "metadata": {},
   "outputs": [
    {
     "data": {
      "image/png": "[encoded data removed]",
      "text/plain": [
       "<Figure size 432x288 with 1 Axes>"
      ]
     },
     "metadata": {
      "needs_background": "light"
     },
     "output_type": "display_data"
    },
    {
     "data": {
      "text/plain": [
       "<sympy.plotting.plot.Plot at 0x7fb7b9c24d90>"
      ]
     },
     "execution_count": 54,
     "metadata": {},
     "output_type": "execute_result"
    }
   ],
   "source": [
    "expr1 = sympify(expr1)\n",
    "y1 = get_explicit_function(expr1)\n",
    "y1\n",
    "\n",
    "expr2 = sympify(expr2)\n",
    "y2 = get_explicit_function(expr2)\n",
    "y2\n",
    "\n",
    "sp.plot(y1, y2, -y2)"
   ]
  },
  {
   "cell_type": "code",
   "execution_count": null,
   "id": "2d71921f-85f7-496d-aa9e-1deeec0794fe",
   "metadata": {},
   "outputs": [],
   "source": []
  }
 ],
 "metadata": {
  "kernelspec": {
   "display_name": "ds39",
   "language": "python",
   "name": "ds39"
  },
  "language_info": {
   "codemirror_mode": {
    "name": "ipython",
    "version": 3
   },
   "file_extension": ".py",
   "mimetype": "text/x-python",
   "name": "python",
   "nbconvert_exporter": "python",
   "pygments_lexer": "ipython3",
   "version": "3.9.7"
  }
 },
 "nbformat": 4,
 "nbformat_minor": 5
}
