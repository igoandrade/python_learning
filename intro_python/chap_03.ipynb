{
 "cells": [
  {
   "cell_type": "markdown",
   "id": "267b90c3-ec1e-442f-9c5b-77b4ff2a4c7c",
   "metadata": {},
   "source": [
    "# Control Statements and Program Development"
   ]
  },
  {
   "cell_type": "markdown",
   "id": "79063f7a-0d85-4096-8166-d8c626447325",
   "metadata": {},
   "source": [
    "## Exercises"
   ]
  },
  {
   "cell_type": "markdown",
   "id": "4fc08391-1a37-4db9-be9b-bc767da4a516",
   "metadata": {},
   "source": [
    "3.13 (_Perfect Numbers_)"
   ]
  },
  {
   "cell_type": "code",
   "execution_count": 1,
   "id": "f25b63dc-a4d8-462b-94df-9fa251f59afc",
   "metadata": {},
   "outputs": [],
   "source": [
    "def list_primes(n):\n",
    "    \"\"\"\n",
    "    This function lists all primes least than or equal to a given integer number 'n'.\n",
    "    \"\"\"\n",
    "    if n < 2:\n",
    "        return []\n",
    "    primes = list(list(range(2, n+1)))\n",
    "    limit = 1+ int(n**(0.5))\n",
    "    for i in range(limit):\n",
    "        primes = [_ for _ in primes if ((_ % primes[i] != 0) or (_ <= primes[i]))]\n",
    "    return primes "
   ]
  },
  {
   "cell_type": "code",
   "execution_count": 2,
   "id": "5c9a8a98-45a8-479e-bb09-7adb91191716",
   "metadata": {},
   "outputs": [
    {
     "name": "stdout",
     "output_type": "stream",
     "text": [
      " 1000 0.00309\n",
      " 2000 0.00828\n",
      " 3000 0.01109\n",
      " 4000 0.02234\n",
      " 5000 0.02800\n",
      " 6000 0.02818\n",
      " 7000 0.03635\n",
      " 8000 0.04221\n",
      " 9000 0.04902\n",
      "10000 0.06148\n"
     ]
    }
   ],
   "source": [
    "import time\n",
    "for n in range(1000, 10001, 1000):\n",
    "    start_time = time.perf_counter()\n",
    "    list_primes(n)\n",
    "    end_time = time.perf_counter() - start_time\n",
    "    print(f\"{n:>5d} {end_time:>.5f}\")"
   ]
  },
  {
   "cell_type": "code",
   "execution_count": 3,
   "id": "7b9c2b01-c0c9-4662-b60d-4f0f2c4801f9",
   "metadata": {},
   "outputs": [],
   "source": [
    "def list_divisors(n):\n",
    "    \"\"\"\n",
    "    This function lists the divisors of a given integer 'n'\n",
    "    \"\"\"\n",
    "    limit = 1 + n//2\n",
    "    divisors = [_ for _ in range(1, limit) if n % _ == 0 ]\n",
    "    return divisors"
   ]
  },
  {
   "cell_type": "code",
   "execution_count": 4,
   "id": "daa8f8a1-2fad-49f6-968d-1e9df5ddc22e",
   "metadata": {},
   "outputs": [],
   "source": [
    "def is_perfect(n):\n",
    "    \"\"\"\n",
    "    This function returns 'True' if 'n' is a perfect number, or 'False', otherwise.\n",
    "    \"\"\"\n",
    "    if n == sum(list_divisors(n)):\n",
    "        return True\n",
    "    else:\n",
    "        return False"
   ]
  },
  {
   "cell_type": "code",
   "execution_count": 5,
   "id": "df1ad4e8-7450-446b-b02c-fe6719c75b0f",
   "metadata": {},
   "outputs": [
    {
     "name": "stdout",
     "output_type": "stream",
     "text": [
      "   6\n",
      "  28\n",
      " 496\n",
      "8128\n"
     ]
    }
   ],
   "source": [
    "for n in range(1,10000):\n",
    "    if is_perfect(n):\n",
    "        print(f\"{n:>4d}\")"
   ]
  },
  {
   "cell_type": "markdown",
   "id": "fc37bda0-e3ea-46ed-91b7-ea40f248f5e4",
   "metadata": {},
   "source": [
    "3.14 (_Challenge: Approximation the Mathematical Constant $\\pi$_)"
   ]
  },
  {
   "cell_type": "code",
   "execution_count": 6,
   "id": "3b4989ac-36c1-4bb2-b186-42587732c8c7",
   "metadata": {},
   "outputs": [],
   "source": [
    "def pi(n = 10):\n",
    "    pi = 4\n",
    "    for i in range(1, n+1):\n",
    "        pi += (-1)**(i) * 4 / (2 * i + 1)\n",
    "    return pi"
   ]
  },
  {
   "cell_type": "code",
   "execution_count": 7,
   "id": "a3b1f2e4-03f7-4802-b073-ffa0270fa67e",
   "metadata": {},
   "outputs": [
    {
     "name": "stdout",
     "output_type": "stream",
     "text": [
      "==========\n",
      "  n     pi\n",
      "----------\n",
      "  1 2.6667\n",
      "  2 3.4667\n",
      "  3 2.8952\n",
      "  4 3.3397\n",
      "  5 2.9760\n",
      "  6 3.2837\n",
      "  7 3.0171\n",
      "  8 3.2524\n",
      "  9 3.0418\n",
      " 10 3.2323\n",
      "==========\n"
     ]
    }
   ],
   "source": [
    "print(10 * \"=\")\n",
    "print(f\"{'n':>3s} {'pi':>6s}\")\n",
    "print(10 * \"-\")\n",
    "for i in range(1,11):\n",
    "    print(f\"{i:>3d} {pi(i):>6.4f}\")\n",
    "print(10 * \"=\")"
   ]
  },
  {
   "cell_type": "markdown",
   "id": "7ae94f85-ff7e-4ffb-8eb5-524a55fc881f",
   "metadata": {},
   "source": [
    "3.17 (_Nested Loops_)"
   ]
  },
  {
   "cell_type": "code",
   "execution_count": 15,
   "id": "30cf5120-0d86-41c0-8c78-0b5c1b442fff",
   "metadata": {},
   "outputs": [
    {
     "name": "stdout",
     "output_type": "stream",
     "text": [
      "*\n",
      "**\n",
      "***\n",
      "****\n",
      "*****\n",
      "******\n",
      "*******\n",
      "********\n",
      "*********\n",
      "**********\n"
     ]
    }
   ],
   "source": [
    "for i in range(1,11):\n",
    "    for j in range(i-1):\n",
    "        print('*', end='')\n",
    "    print('*')"
   ]
  },
  {
   "cell_type": "code",
   "execution_count": 19,
   "id": "2aca4f5d-c02e-4845-8460-7a5a975541f3",
   "metadata": {},
   "outputs": [
    {
     "name": "stdout",
     "output_type": "stream",
     "text": [
      "**********\n",
      "*********\n",
      "********\n",
      "*******\n",
      "******\n",
      "*****\n",
      "****\n",
      "***\n",
      "**\n",
      "*\n"
     ]
    }
   ],
   "source": [
    "for i in range(10, 0, -1):\n",
    "    for j in range(i-1):\n",
    "        print('*', end='')\n",
    "    print('*')"
   ]
  },
  {
   "cell_type": "code",
   "execution_count": 29,
   "id": "b1af8913-db94-4229-b345-e333bc77356c",
   "metadata": {},
   "outputs": [
    {
     "name": "stdout",
     "output_type": "stream",
     "text": [
      "**********\n",
      " *********\n",
      "  ********\n",
      "   *******\n",
      "    ******\n",
      "     *****\n",
      "      ****\n",
      "       ***\n",
      "        **\n",
      "         *\n"
     ]
    }
   ],
   "source": [
    "for i in range(10):\n",
    "    for j in range(i):\n",
    "        print(' ', end='')\n",
    "    for k in range(10, i+1, -1):\n",
    "        print('*', end='')\n",
    "    print('*')"
   ]
  },
  {
   "cell_type": "code",
   "execution_count": 30,
   "id": "c7826164-cfee-40bc-8906-a2b1afbe5a4f",
   "metadata": {},
   "outputs": [
    {
     "name": "stdout",
     "output_type": "stream",
     "text": [
      "         *\n",
      "        **\n",
      "       ***\n",
      "      ****\n",
      "     *****\n",
      "    ******\n",
      "   *******\n",
      "  ********\n",
      " *********\n",
      "**********\n"
     ]
    }
   ],
   "source": [
    "for i in range(10):\n",
    "    for j in range(10, i+1, -1):\n",
    "        print(' ', end='')\n",
    "    for k in range(i):\n",
    "        print('*', end='')\n",
    "    print('*')"
   ]
  },
  {
   "cell_type": "markdown",
   "id": "9335d568-57fd-410b-8a0c-88e107ed17ed",
   "metadata": {},
   "source": [
    "3.19 (_Prime Factorization_)"
   ]
  },
  {
   "cell_type": "code",
   "execution_count": 36,
   "id": "2f08cacc-464e-4d53-b9c5-9bf22bcbb648",
   "metadata": {},
   "outputs": [],
   "source": [
    "def prime_factorization(n):\n",
    "    primes = list_primes(n)\n",
    "    if n in primes:\n",
    "        return [[n, 1]]\n",
    "    factors = []\n",
    "    while n != 1:\n",
    "        for p in primes:\n",
    "            t = [p, 0]\n",
    "            while n % p == 0:\n",
    "                t[1] += 1\n",
    "                n /= p\n",
    "            if t[1] > 0:\n",
    "                factors.append(t)\n",
    "    return factors"
   ]
  },
  {
   "cell_type": "code",
   "execution_count": 41,
   "id": "ddca2699-e35d-4951-9844-f6e98940a1e5",
   "metadata": {},
   "outputs": [
    {
     "data": {
      "text/plain": [
       "[[29, 1], [53, 1]]"
      ]
     },
     "execution_count": 41,
     "metadata": {},
     "output_type": "execute_result"
    }
   ],
   "source": [
    "prime_factorization(1537)"
   ]
  },
  {
   "cell_type": "markdown",
   "id": "f7b5db9a-c558-468f-b41c-35375122551a",
   "metadata": {},
   "source": [
    "3.28 (_Intro to Data Science: Mean, Median and Mode_)"
   ]
  },
  {
   "cell_type": "code",
   "execution_count": 47,
   "id": "214de198-08dc-4450-b989-28676dfaff23",
   "metadata": {},
   "outputs": [],
   "source": [
    "temperatures = [19.5, 19.5, 21.6, 20.2, 18.6, 17.2, 19.5]"
   ]
  },
  {
   "cell_type": "code",
   "execution_count": 49,
   "id": "53acbeab-6a69-4e1e-b94e-b160b228fab1",
   "metadata": {},
   "outputs": [
    {
     "data": {
      "text/plain": [
       "19.442857142857147"
      ]
     },
     "execution_count": 49,
     "metadata": {},
     "output_type": "execute_result"
    }
   ],
   "source": [
    "mean = sum(temperatures) / len(temperatures)\n",
    "mean"
   ]
  },
  {
   "cell_type": "code",
   "execution_count": 51,
   "id": "5f5d3dd4-4beb-40fb-a014-25c8ea243cf7",
   "metadata": {},
   "outputs": [
    {
     "data": {
      "text/plain": [
       "19.5"
      ]
     },
     "execution_count": 51,
     "metadata": {},
     "output_type": "execute_result"
    }
   ],
   "source": [
    "temperatures.sort()\n",
    "n = len(temperatures)\n",
    "if n % 2 == 0:\n",
    "    median = (temperatures[n//2] + temperatures[n//2 + 1])/2\n",
    "else:\n",
    "    median = temperatures[n//2 + 1]\n",
    "median"
   ]
  },
  {
   "cell_type": "code",
   "execution_count": 52,
   "id": "42eed16d-eda4-40ba-ba7f-bd9d02101e26",
   "metadata": {},
   "outputs": [
    {
     "data": {
      "text/plain": [
       "[17.2, 18.6, 19.5, 19.5, 19.5, 20.2, 21.6]"
      ]
     },
     "execution_count": 52,
     "metadata": {},
     "output_type": "execute_result"
    }
   ],
   "source": [
    "temperatures"
   ]
  },
  {
   "cell_type": "code",
   "execution_count": 56,
   "id": "50f61587-f7b4-43fd-bb56-309da9081826",
   "metadata": {},
   "outputs": [],
   "source": [
    "temperatures = [1, 1, 1, 19.5, 19.5, 21.6, 21.6, 21.6, 20.2, 18.6, 17.2, 19.5]"
   ]
  },
  {
   "cell_type": "code",
   "execution_count": 64,
   "id": "48912a32-e763-43c2-86aa-a88ce1923947",
   "metadata": {},
   "outputs": [
    {
     "data": {
      "text/plain": [
       "[]"
      ]
     },
     "execution_count": 64,
     "metadata": {},
     "output_type": "execute_result"
    }
   ],
   "source": [
    "unique_temp = []\n",
    "qnt_temp = []\n",
    "for temp in temperatures:\n",
    "    if temp not in unique_temp:\n",
    "        unique_temp.append(temp)\n",
    "        qnt_temp.append(1)\n",
    "    else:\n",
    "        index = unique_temp.index(temp)\n",
    "        qnt_temp[index] += 1\n",
    "\n",
    "mode = []\n",
    "q_id = qnt_temp.index(max(qnt_temp))\n",
    "mode = [t for q, t in zip(qnt_temp, unique_temp) if q == q_id]\n",
    "mode"
   ]
  },
  {
   "cell_type": "code",
   "execution_count": null,
   "id": "f256b4fa-e434-4b75-9f92-a30e25ece170",
   "metadata": {},
   "outputs": [],
   "source": []
  }
 ],
 "metadata": {
  "kernelspec": {
   "display_name": "ds39",
   "language": "python",
   "name": "ds39"
  },
  "language_info": {
   "codemirror_mode": {
    "name": "ipython",
    "version": 3
   },
   "file_extension": ".py",
   "mimetype": "text/x-python",
   "name": "python",
   "nbconvert_exporter": "python",
   "pygments_lexer": "ipython3",
   "version": "3.9.7"
  }
 },
 "nbformat": 4,
 "nbformat_minor": 5
}
